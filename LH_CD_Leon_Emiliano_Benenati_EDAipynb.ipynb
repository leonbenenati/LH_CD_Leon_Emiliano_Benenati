{
  "nbformat": 4,
  "nbformat_minor": 0,
  "metadata": {
    "colab": {
      "provenance": [],
      "toc_visible": true
    },
    "kernelspec": {
      "name": "python3",
      "display_name": "Python 3"
    },
    "language_info": {
      "name": "python"
    }
  },
  "cells": [
    {
      "cell_type": "markdown",
      "source": [
        "# Pacotes iniciais"
      ],
      "metadata": {
        "id": "gLKhmAN75rqP"
      }
    },
    {
      "cell_type": "code",
      "execution_count": 2,
      "metadata": {
        "id": "w-Ff1KYI5kSE"
      },
      "outputs": [],
      "source": [
        "import pandas as pd\n",
        "import numpy as np\n",
        "\n",
        "import matplotlib.pyplot as plt\n",
        "import seaborn as sns\n",
        "\n",
        "plt.style.use(\"ggplot\")"
      ]
    },
    {
      "cell_type": "code",
      "source": [
        "df = pd.read_csv(\"/content/cars_train.csv\", sep=\";\",encoding = 'ISO-8859-1')\n",
        "df.head()"
      ],
      "metadata": {
        "colab": {
          "base_uri": "https://localhost:8080/",
          "height": 542
        },
        "id": "cQyRf0K45wxd",
        "outputId": "408cfc38-293c-4086-ac88-4befde29f56d"
      },
      "execution_count": 3,
      "outputs": [
        {
          "output_type": "execute_result",
          "data": {
            "text/plain": [
              "         id  num_fotos       marca   modelo  \\\n",
              "0  3,01E+38        8.0      NISSAN    KICKS   \n",
              "1  2,80E+38        8.0        JEEP  COMPASS   \n",
              "2  5,64E+37       16.0         KIA  SORENTO   \n",
              "3  5,69E+37       14.0  VOLKSWAGEN   AMAROK   \n",
              "4  3,39E+38        8.0   SSANGYONG  KORANDO   \n",
              "\n",
              "                                              versao  ano_de_fabricacao  \\\n",
              "0                    1.6 16V FLEXSTART SL 4P XTRONIC               2017   \n",
              "1                    2.0 16V FLEX LIMITED AUTOMÁTICO               2017   \n",
              "2              2.4 16V GASOLINA EX 7L AWD AUTOMÁTICO               2018   \n",
              "3  2.0 HIGHLINE 4X4 CD 16V TURBO INTERCOOLER DIES...               2013   \n",
              "4         2.0 GLS 4X4 16V TURBO DIESEL 4P AUTOMÁTICO               2013   \n",
              "\n",
              "   ano_modelo  hodometro      cambio  num_portas  ... elegivel_revisao  \\\n",
              "0      2017.0    67772.0         CVT           4  ...            False   \n",
              "1      2017.0    62979.0  Automática           4  ...            False   \n",
              "2      2019.0    44070.0  Automática           4  ...            False   \n",
              "3      2015.0    85357.0  Automática           4  ...            False   \n",
              "4      2015.0    71491.0  Automática           4  ...            False   \n",
              "\n",
              "  dono_aceita_troca veiculo_único_dono  \\\n",
              "0               NaN                NaN   \n",
              "1      Aceita troca                NaN   \n",
              "2      Aceita troca                NaN   \n",
              "3      Aceita troca                NaN   \n",
              "4               NaN                NaN   \n",
              "\n",
              "                        revisoes_concessionaria  ipva_pago veiculo_licenciado  \\\n",
              "0  Todas as revisões feitas pela concessionária  IPVA pago         Licenciado   \n",
              "1                                           NaN  IPVA pago                NaN   \n",
              "2                                           NaN        NaN                NaN   \n",
              "3                                           NaN  IPVA pago         Licenciado   \n",
              "4  Todas as revisões feitas pela concessionária        NaN                NaN   \n",
              "\n",
              "   garantia_de_fábrica                         revisoes_dentro_agenda  \\\n",
              "0                  NaN                                            NaN   \n",
              "1                  NaN                                            NaN   \n",
              "2                  NaN                                            NaN   \n",
              "3                  NaN                                            NaN   \n",
              "4  Garantia de fábrica  Todas as revisões feitas pela agenda do carro   \n",
              "\n",
              "   veiculo_alienado      preco  \n",
              "0               NaN   74732,59  \n",
              "1               NaN   81965,33  \n",
              "2               NaN  162824,81  \n",
              "3               NaN  123681,36  \n",
              "4               NaN   82419,76  \n",
              "\n",
              "[5 rows x 29 columns]"
            ],
            "text/html": [
              "\n",
              "\n",
              "  <div id=\"df-e9b7b758-f520-4379-88ea-930c76991e37\">\n",
              "    <div class=\"colab-df-container\">\n",
              "      <div>\n",
              "<style scoped>\n",
              "    .dataframe tbody tr th:only-of-type {\n",
              "        vertical-align: middle;\n",
              "    }\n",
              "\n",
              "    .dataframe tbody tr th {\n",
              "        vertical-align: top;\n",
              "    }\n",
              "\n",
              "    .dataframe thead th {\n",
              "        text-align: right;\n",
              "    }\n",
              "</style>\n",
              "<table border=\"1\" class=\"dataframe\">\n",
              "  <thead>\n",
              "    <tr style=\"text-align: right;\">\n",
              "      <th></th>\n",
              "      <th>id</th>\n",
              "      <th>num_fotos</th>\n",
              "      <th>marca</th>\n",
              "      <th>modelo</th>\n",
              "      <th>versao</th>\n",
              "      <th>ano_de_fabricacao</th>\n",
              "      <th>ano_modelo</th>\n",
              "      <th>hodometro</th>\n",
              "      <th>cambio</th>\n",
              "      <th>num_portas</th>\n",
              "      <th>...</th>\n",
              "      <th>elegivel_revisao</th>\n",
              "      <th>dono_aceita_troca</th>\n",
              "      <th>veiculo_único_dono</th>\n",
              "      <th>revisoes_concessionaria</th>\n",
              "      <th>ipva_pago</th>\n",
              "      <th>veiculo_licenciado</th>\n",
              "      <th>garantia_de_fábrica</th>\n",
              "      <th>revisoes_dentro_agenda</th>\n",
              "      <th>veiculo_alienado</th>\n",
              "      <th>preco</th>\n",
              "    </tr>\n",
              "  </thead>\n",
              "  <tbody>\n",
              "    <tr>\n",
              "      <th>0</th>\n",
              "      <td>3,01E+38</td>\n",
              "      <td>8.0</td>\n",
              "      <td>NISSAN</td>\n",
              "      <td>KICKS</td>\n",
              "      <td>1.6 16V FLEXSTART SL 4P XTRONIC</td>\n",
              "      <td>2017</td>\n",
              "      <td>2017.0</td>\n",
              "      <td>67772.0</td>\n",
              "      <td>CVT</td>\n",
              "      <td>4</td>\n",
              "      <td>...</td>\n",
              "      <td>False</td>\n",
              "      <td>NaN</td>\n",
              "      <td>NaN</td>\n",
              "      <td>Todas as revisões feitas pela concessionária</td>\n",
              "      <td>IPVA pago</td>\n",
              "      <td>Licenciado</td>\n",
              "      <td>NaN</td>\n",
              "      <td>NaN</td>\n",
              "      <td>NaN</td>\n",
              "      <td>74732,59</td>\n",
              "    </tr>\n",
              "    <tr>\n",
              "      <th>1</th>\n",
              "      <td>2,80E+38</td>\n",
              "      <td>8.0</td>\n",
              "      <td>JEEP</td>\n",
              "      <td>COMPASS</td>\n",
              "      <td>2.0 16V FLEX LIMITED AUTOMÁTICO</td>\n",
              "      <td>2017</td>\n",
              "      <td>2017.0</td>\n",
              "      <td>62979.0</td>\n",
              "      <td>Automática</td>\n",
              "      <td>4</td>\n",
              "      <td>...</td>\n",
              "      <td>False</td>\n",
              "      <td>Aceita troca</td>\n",
              "      <td>NaN</td>\n",
              "      <td>NaN</td>\n",
              "      <td>IPVA pago</td>\n",
              "      <td>NaN</td>\n",
              "      <td>NaN</td>\n",
              "      <td>NaN</td>\n",
              "      <td>NaN</td>\n",
              "      <td>81965,33</td>\n",
              "    </tr>\n",
              "    <tr>\n",
              "      <th>2</th>\n",
              "      <td>5,64E+37</td>\n",
              "      <td>16.0</td>\n",
              "      <td>KIA</td>\n",
              "      <td>SORENTO</td>\n",
              "      <td>2.4 16V GASOLINA EX 7L AWD AUTOMÁTICO</td>\n",
              "      <td>2018</td>\n",
              "      <td>2019.0</td>\n",
              "      <td>44070.0</td>\n",
              "      <td>Automática</td>\n",
              "      <td>4</td>\n",
              "      <td>...</td>\n",
              "      <td>False</td>\n",
              "      <td>Aceita troca</td>\n",
              "      <td>NaN</td>\n",
              "      <td>NaN</td>\n",
              "      <td>NaN</td>\n",
              "      <td>NaN</td>\n",
              "      <td>NaN</td>\n",
              "      <td>NaN</td>\n",
              "      <td>NaN</td>\n",
              "      <td>162824,81</td>\n",
              "    </tr>\n",
              "    <tr>\n",
              "      <th>3</th>\n",
              "      <td>5,69E+37</td>\n",
              "      <td>14.0</td>\n",
              "      <td>VOLKSWAGEN</td>\n",
              "      <td>AMAROK</td>\n",
              "      <td>2.0 HIGHLINE 4X4 CD 16V TURBO INTERCOOLER DIES...</td>\n",
              "      <td>2013</td>\n",
              "      <td>2015.0</td>\n",
              "      <td>85357.0</td>\n",
              "      <td>Automática</td>\n",
              "      <td>4</td>\n",
              "      <td>...</td>\n",
              "      <td>False</td>\n",
              "      <td>Aceita troca</td>\n",
              "      <td>NaN</td>\n",
              "      <td>NaN</td>\n",
              "      <td>IPVA pago</td>\n",
              "      <td>Licenciado</td>\n",
              "      <td>NaN</td>\n",
              "      <td>NaN</td>\n",
              "      <td>NaN</td>\n",
              "      <td>123681,36</td>\n",
              "    </tr>\n",
              "    <tr>\n",
              "      <th>4</th>\n",
              "      <td>3,39E+38</td>\n",
              "      <td>8.0</td>\n",
              "      <td>SSANGYONG</td>\n",
              "      <td>KORANDO</td>\n",
              "      <td>2.0 GLS 4X4 16V TURBO DIESEL 4P AUTOMÁTICO</td>\n",
              "      <td>2013</td>\n",
              "      <td>2015.0</td>\n",
              "      <td>71491.0</td>\n",
              "      <td>Automática</td>\n",
              "      <td>4</td>\n",
              "      <td>...</td>\n",
              "      <td>False</td>\n",
              "      <td>NaN</td>\n",
              "      <td>NaN</td>\n",
              "      <td>Todas as revisões feitas pela concessionária</td>\n",
              "      <td>NaN</td>\n",
              "      <td>NaN</td>\n",
              "      <td>Garantia de fábrica</td>\n",
              "      <td>Todas as revisões feitas pela agenda do carro</td>\n",
              "      <td>NaN</td>\n",
              "      <td>82419,76</td>\n",
              "    </tr>\n",
              "  </tbody>\n",
              "</table>\n",
              "<p>5 rows × 29 columns</p>\n",
              "</div>\n",
              "      <button class=\"colab-df-convert\" onclick=\"convertToInteractive('df-e9b7b758-f520-4379-88ea-930c76991e37')\"\n",
              "              title=\"Convert this dataframe to an interactive table.\"\n",
              "              style=\"display:none;\">\n",
              "\n",
              "  <svg xmlns=\"http://www.w3.org/2000/svg\" height=\"24px\"viewBox=\"0 0 24 24\"\n",
              "       width=\"24px\">\n",
              "    <path d=\"M0 0h24v24H0V0z\" fill=\"none\"/>\n",
              "    <path d=\"M18.56 5.44l.94 2.06.94-2.06 2.06-.94-2.06-.94-.94-2.06-.94 2.06-2.06.94zm-11 1L8.5 8.5l.94-2.06 2.06-.94-2.06-.94L8.5 2.5l-.94 2.06-2.06.94zm10 10l.94 2.06.94-2.06 2.06-.94-2.06-.94-.94-2.06-.94 2.06-2.06.94z\"/><path d=\"M17.41 7.96l-1.37-1.37c-.4-.4-.92-.59-1.43-.59-.52 0-1.04.2-1.43.59L10.3 9.45l-7.72 7.72c-.78.78-.78 2.05 0 2.83L4 21.41c.39.39.9.59 1.41.59.51 0 1.02-.2 1.41-.59l7.78-7.78 2.81-2.81c.8-.78.8-2.07 0-2.86zM5.41 20L4 18.59l7.72-7.72 1.47 1.35L5.41 20z\"/>\n",
              "  </svg>\n",
              "      </button>\n",
              "\n",
              "\n",
              "\n",
              "    <div id=\"df-e408fa52-94d5-41f9-9824-d43325960aa4\">\n",
              "      <button class=\"colab-df-quickchart\" onclick=\"quickchart('df-e408fa52-94d5-41f9-9824-d43325960aa4')\"\n",
              "              title=\"Suggest charts.\"\n",
              "              style=\"display:none;\">\n",
              "\n",
              "<svg xmlns=\"http://www.w3.org/2000/svg\" height=\"24px\"viewBox=\"0 0 24 24\"\n",
              "     width=\"24px\">\n",
              "    <g>\n",
              "        <path d=\"M19 3H5c-1.1 0-2 .9-2 2v14c0 1.1.9 2 2 2h14c1.1 0 2-.9 2-2V5c0-1.1-.9-2-2-2zM9 17H7v-7h2v7zm4 0h-2V7h2v10zm4 0h-2v-4h2v4z\"/>\n",
              "    </g>\n",
              "</svg>\n",
              "      </button>\n",
              "    </div>\n",
              "\n",
              "<style>\n",
              "  .colab-df-quickchart {\n",
              "    background-color: #E8F0FE;\n",
              "    border: none;\n",
              "    border-radius: 50%;\n",
              "    cursor: pointer;\n",
              "    display: none;\n",
              "    fill: #1967D2;\n",
              "    height: 32px;\n",
              "    padding: 0 0 0 0;\n",
              "    width: 32px;\n",
              "  }\n",
              "\n",
              "  .colab-df-quickchart:hover {\n",
              "    background-color: #E2EBFA;\n",
              "    box-shadow: 0px 1px 2px rgba(60, 64, 67, 0.3), 0px 1px 3px 1px rgba(60, 64, 67, 0.15);\n",
              "    fill: #174EA6;\n",
              "  }\n",
              "\n",
              "  [theme=dark] .colab-df-quickchart {\n",
              "    background-color: #3B4455;\n",
              "    fill: #D2E3FC;\n",
              "  }\n",
              "\n",
              "  [theme=dark] .colab-df-quickchart:hover {\n",
              "    background-color: #434B5C;\n",
              "    box-shadow: 0px 1px 3px 1px rgba(0, 0, 0, 0.15);\n",
              "    filter: drop-shadow(0px 1px 2px rgba(0, 0, 0, 0.3));\n",
              "    fill: #FFFFFF;\n",
              "  }\n",
              "</style>\n",
              "\n",
              "    <script>\n",
              "      async function quickchart(key) {\n",
              "        const containerElement = document.querySelector('#' + key);\n",
              "        const charts = await google.colab.kernel.invokeFunction(\n",
              "            'suggestCharts', [key], {});\n",
              "      }\n",
              "    </script>\n",
              "\n",
              "      <script>\n",
              "\n",
              "function displayQuickchartButton(domScope) {\n",
              "  let quickchartButtonEl =\n",
              "    domScope.querySelector('#df-e408fa52-94d5-41f9-9824-d43325960aa4 button.colab-df-quickchart');\n",
              "  quickchartButtonEl.style.display =\n",
              "    google.colab.kernel.accessAllowed ? 'block' : 'none';\n",
              "}\n",
              "\n",
              "        displayQuickchartButton(document);\n",
              "      </script>\n",
              "      <style>\n",
              "    .colab-df-container {\n",
              "      display:flex;\n",
              "      flex-wrap:wrap;\n",
              "      gap: 12px;\n",
              "    }\n",
              "\n",
              "    .colab-df-convert {\n",
              "      background-color: #E8F0FE;\n",
              "      border: none;\n",
              "      border-radius: 50%;\n",
              "      cursor: pointer;\n",
              "      display: none;\n",
              "      fill: #1967D2;\n",
              "      height: 32px;\n",
              "      padding: 0 0 0 0;\n",
              "      width: 32px;\n",
              "    }\n",
              "\n",
              "    .colab-df-convert:hover {\n",
              "      background-color: #E2EBFA;\n",
              "      box-shadow: 0px 1px 2px rgba(60, 64, 67, 0.3), 0px 1px 3px 1px rgba(60, 64, 67, 0.15);\n",
              "      fill: #174EA6;\n",
              "    }\n",
              "\n",
              "    [theme=dark] .colab-df-convert {\n",
              "      background-color: #3B4455;\n",
              "      fill: #D2E3FC;\n",
              "    }\n",
              "\n",
              "    [theme=dark] .colab-df-convert:hover {\n",
              "      background-color: #434B5C;\n",
              "      box-shadow: 0px 1px 3px 1px rgba(0, 0, 0, 0.15);\n",
              "      filter: drop-shadow(0px 1px 2px rgba(0, 0, 0, 0.3));\n",
              "      fill: #FFFFFF;\n",
              "    }\n",
              "  </style>\n",
              "\n",
              "      <script>\n",
              "        const buttonEl =\n",
              "          document.querySelector('#df-e9b7b758-f520-4379-88ea-930c76991e37 button.colab-df-convert');\n",
              "        buttonEl.style.display =\n",
              "          google.colab.kernel.accessAllowed ? 'block' : 'none';\n",
              "\n",
              "        async function convertToInteractive(key) {\n",
              "          const element = document.querySelector('#df-e9b7b758-f520-4379-88ea-930c76991e37');\n",
              "          const dataTable =\n",
              "            await google.colab.kernel.invokeFunction('convertToInteractive',\n",
              "                                                     [key], {});\n",
              "          if (!dataTable) return;\n",
              "\n",
              "          const docLinkHtml = 'Like what you see? Visit the ' +\n",
              "            '<a target=\"_blank\" href=https://colab.research.google.com/notebooks/data_table.ipynb>data table notebook</a>'\n",
              "            + ' to learn more about interactive tables.';\n",
              "          element.innerHTML = '';\n",
              "          dataTable['output_type'] = 'display_data';\n",
              "          await google.colab.output.renderOutput(dataTable, element);\n",
              "          const docLink = document.createElement('div');\n",
              "          docLink.innerHTML = docLinkHtml;\n",
              "          element.appendChild(docLink);\n",
              "        }\n",
              "      </script>\n",
              "    </div>\n",
              "  </div>\n"
            ]
          },
          "metadata": {},
          "execution_count": 3
        }
      ]
    },
    {
      "cell_type": "code",
      "source": [
        "df.info()\n"
      ],
      "metadata": {
        "colab": {
          "base_uri": "https://localhost:8080/"
        },
        "id": "cGUfdl495w7-",
        "outputId": "4e2f466d-5255-4123-8945-e9cc0998d2a0"
      },
      "execution_count": null,
      "outputs": [
        {
          "output_type": "stream",
          "name": "stdout",
          "text": [
            "<class 'pandas.core.frame.DataFrame'>\n",
            "RangeIndex: 29584 entries, 0 to 29583\n",
            "Data columns (total 29 columns):\n",
            " #   Column                   Non-Null Count  Dtype  \n",
            "---  ------                   --------------  -----  \n",
            " 0   id                       29584 non-null  object \n",
            " 1   num_fotos                29407 non-null  float64\n",
            " 2   marca                    29584 non-null  object \n",
            " 3   modelo                   29584 non-null  object \n",
            " 4   versao                   29584 non-null  object \n",
            " 5   ano_de_fabricacao        29584 non-null  int64  \n",
            " 6   ano_modelo               29584 non-null  float64\n",
            " 7   hodometro                29584 non-null  float64\n",
            " 8   cambio                   29584 non-null  object \n",
            " 9   num_portas               29584 non-null  int64  \n",
            " 10  tipo                     29584 non-null  object \n",
            " 11  blindado                 29584 non-null  object \n",
            " 12  cor                      29584 non-null  object \n",
            " 13  tipo_vendedor            29584 non-null  object \n",
            " 14  cidade_vendedor          29584 non-null  object \n",
            " 15  estado_vendedor          29584 non-null  object \n",
            " 16  anunciante               29584 non-null  object \n",
            " 17  entrega_delivery         29584 non-null  bool   \n",
            " 18  troca                    29584 non-null  bool   \n",
            " 19  elegivel_revisao         29584 non-null  bool   \n",
            " 20  dono_aceita_troca        21922 non-null  object \n",
            " 21  veiculo_único_dono       10423 non-null  object \n",
            " 22  revisoes_concessionaria  9172 non-null   object \n",
            " 23  ipva_pago                19659 non-null  object \n",
            " 24  veiculo_licenciado       15906 non-null  object \n",
            " 25  garantia_de_fábrica      4365 non-null   object \n",
            " 26  revisoes_dentro_agenda   5910 non-null   object \n",
            " 27  veiculo_alienado         0 non-null      float64\n",
            " 28  preco                    29584 non-null  object \n",
            "dtypes: bool(3), float64(4), int64(2), object(20)\n",
            "memory usage: 6.0+ MB\n"
          ]
        }
      ]
    },
    {
      "cell_type": "code",
      "source": [
        "df['preco'] = df['preco'].str.replace(',','.')\n",
        "df.head()"
      ],
      "metadata": {
        "colab": {
          "base_uri": "https://localhost:8080/",
          "height": 542
        },
        "id": "JrQnssaPUG31",
        "outputId": "91f1c72c-c13f-4170-c9a1-e6f42d909011"
      },
      "execution_count": null,
      "outputs": [
        {
          "output_type": "execute_result",
          "data": {
            "text/plain": [
              "         id  num_fotos       marca   modelo  \\\n",
              "0  3,01E+38        8.0      NISSAN    KICKS   \n",
              "1  2,80E+38        8.0        JEEP  COMPASS   \n",
              "2  5,64E+37       16.0         KIA  SORENTO   \n",
              "3  5,69E+37       14.0  VOLKSWAGEN   AMAROK   \n",
              "4  3,39E+38        8.0   SSANGYONG  KORANDO   \n",
              "\n",
              "                                              versao  ano_de_fabricacao  \\\n",
              "0                    1.6 16V FLEXSTART SL 4P XTRONIC               2017   \n",
              "1                    2.0 16V FLEX LIMITED AUTOMÁTICO               2017   \n",
              "2              2.4 16V GASOLINA EX 7L AWD AUTOMÁTICO               2018   \n",
              "3  2.0 HIGHLINE 4X4 CD 16V TURBO INTERCOOLER DIES...               2013   \n",
              "4         2.0 GLS 4X4 16V TURBO DIESEL 4P AUTOMÁTICO               2013   \n",
              "\n",
              "   ano_modelo  hodometro      cambio  num_portas  ... elegivel_revisao  \\\n",
              "0      2017.0    67772.0         CVT           4  ...            False   \n",
              "1      2017.0    62979.0  Automática           4  ...            False   \n",
              "2      2019.0    44070.0  Automática           4  ...            False   \n",
              "3      2015.0    85357.0  Automática           4  ...            False   \n",
              "4      2015.0    71491.0  Automática           4  ...            False   \n",
              "\n",
              "  dono_aceita_troca veiculo_único_dono  \\\n",
              "0               NaN                NaN   \n",
              "1      Aceita troca                NaN   \n",
              "2      Aceita troca                NaN   \n",
              "3      Aceita troca                NaN   \n",
              "4               NaN                NaN   \n",
              "\n",
              "                        revisoes_concessionaria  ipva_pago veiculo_licenciado  \\\n",
              "0  Todas as revisões feitas pela concessionária  IPVA pago         Licenciado   \n",
              "1                                           NaN  IPVA pago                NaN   \n",
              "2                                           NaN        NaN                NaN   \n",
              "3                                           NaN  IPVA pago         Licenciado   \n",
              "4  Todas as revisões feitas pela concessionária        NaN                NaN   \n",
              "\n",
              "   garantia_de_fábrica                         revisoes_dentro_agenda  \\\n",
              "0                  NaN                                            NaN   \n",
              "1                  NaN                                            NaN   \n",
              "2                  NaN                                            NaN   \n",
              "3                  NaN                                            NaN   \n",
              "4  Garantia de fábrica  Todas as revisões feitas pela agenda do carro   \n",
              "\n",
              "   veiculo_alienado      preco  \n",
              "0               NaN   74732.59  \n",
              "1               NaN   81965.33  \n",
              "2               NaN  162824.81  \n",
              "3               NaN  123681.36  \n",
              "4               NaN   82419.76  \n",
              "\n",
              "[5 rows x 29 columns]"
            ],
            "text/html": [
              "\n",
              "\n",
              "  <div id=\"df-f468eb70-63ab-4197-b2b8-e82a08952640\">\n",
              "    <div class=\"colab-df-container\">\n",
              "      <div>\n",
              "<style scoped>\n",
              "    .dataframe tbody tr th:only-of-type {\n",
              "        vertical-align: middle;\n",
              "    }\n",
              "\n",
              "    .dataframe tbody tr th {\n",
              "        vertical-align: top;\n",
              "    }\n",
              "\n",
              "    .dataframe thead th {\n",
              "        text-align: right;\n",
              "    }\n",
              "</style>\n",
              "<table border=\"1\" class=\"dataframe\">\n",
              "  <thead>\n",
              "    <tr style=\"text-align: right;\">\n",
              "      <th></th>\n",
              "      <th>id</th>\n",
              "      <th>num_fotos</th>\n",
              "      <th>marca</th>\n",
              "      <th>modelo</th>\n",
              "      <th>versao</th>\n",
              "      <th>ano_de_fabricacao</th>\n",
              "      <th>ano_modelo</th>\n",
              "      <th>hodometro</th>\n",
              "      <th>cambio</th>\n",
              "      <th>num_portas</th>\n",
              "      <th>...</th>\n",
              "      <th>elegivel_revisao</th>\n",
              "      <th>dono_aceita_troca</th>\n",
              "      <th>veiculo_único_dono</th>\n",
              "      <th>revisoes_concessionaria</th>\n",
              "      <th>ipva_pago</th>\n",
              "      <th>veiculo_licenciado</th>\n",
              "      <th>garantia_de_fábrica</th>\n",
              "      <th>revisoes_dentro_agenda</th>\n",
              "      <th>veiculo_alienado</th>\n",
              "      <th>preco</th>\n",
              "    </tr>\n",
              "  </thead>\n",
              "  <tbody>\n",
              "    <tr>\n",
              "      <th>0</th>\n",
              "      <td>3,01E+38</td>\n",
              "      <td>8.0</td>\n",
              "      <td>NISSAN</td>\n",
              "      <td>KICKS</td>\n",
              "      <td>1.6 16V FLEXSTART SL 4P XTRONIC</td>\n",
              "      <td>2017</td>\n",
              "      <td>2017.0</td>\n",
              "      <td>67772.0</td>\n",
              "      <td>CVT</td>\n",
              "      <td>4</td>\n",
              "      <td>...</td>\n",
              "      <td>False</td>\n",
              "      <td>NaN</td>\n",
              "      <td>NaN</td>\n",
              "      <td>Todas as revisões feitas pela concessionária</td>\n",
              "      <td>IPVA pago</td>\n",
              "      <td>Licenciado</td>\n",
              "      <td>NaN</td>\n",
              "      <td>NaN</td>\n",
              "      <td>NaN</td>\n",
              "      <td>74732.59</td>\n",
              "    </tr>\n",
              "    <tr>\n",
              "      <th>1</th>\n",
              "      <td>2,80E+38</td>\n",
              "      <td>8.0</td>\n",
              "      <td>JEEP</td>\n",
              "      <td>COMPASS</td>\n",
              "      <td>2.0 16V FLEX LIMITED AUTOMÁTICO</td>\n",
              "      <td>2017</td>\n",
              "      <td>2017.0</td>\n",
              "      <td>62979.0</td>\n",
              "      <td>Automática</td>\n",
              "      <td>4</td>\n",
              "      <td>...</td>\n",
              "      <td>False</td>\n",
              "      <td>Aceita troca</td>\n",
              "      <td>NaN</td>\n",
              "      <td>NaN</td>\n",
              "      <td>IPVA pago</td>\n",
              "      <td>NaN</td>\n",
              "      <td>NaN</td>\n",
              "      <td>NaN</td>\n",
              "      <td>NaN</td>\n",
              "      <td>81965.33</td>\n",
              "    </tr>\n",
              "    <tr>\n",
              "      <th>2</th>\n",
              "      <td>5,64E+37</td>\n",
              "      <td>16.0</td>\n",
              "      <td>KIA</td>\n",
              "      <td>SORENTO</td>\n",
              "      <td>2.4 16V GASOLINA EX 7L AWD AUTOMÁTICO</td>\n",
              "      <td>2018</td>\n",
              "      <td>2019.0</td>\n",
              "      <td>44070.0</td>\n",
              "      <td>Automática</td>\n",
              "      <td>4</td>\n",
              "      <td>...</td>\n",
              "      <td>False</td>\n",
              "      <td>Aceita troca</td>\n",
              "      <td>NaN</td>\n",
              "      <td>NaN</td>\n",
              "      <td>NaN</td>\n",
              "      <td>NaN</td>\n",
              "      <td>NaN</td>\n",
              "      <td>NaN</td>\n",
              "      <td>NaN</td>\n",
              "      <td>162824.81</td>\n",
              "    </tr>\n",
              "    <tr>\n",
              "      <th>3</th>\n",
              "      <td>5,69E+37</td>\n",
              "      <td>14.0</td>\n",
              "      <td>VOLKSWAGEN</td>\n",
              "      <td>AMAROK</td>\n",
              "      <td>2.0 HIGHLINE 4X4 CD 16V TURBO INTERCOOLER DIES...</td>\n",
              "      <td>2013</td>\n",
              "      <td>2015.0</td>\n",
              "      <td>85357.0</td>\n",
              "      <td>Automática</td>\n",
              "      <td>4</td>\n",
              "      <td>...</td>\n",
              "      <td>False</td>\n",
              "      <td>Aceita troca</td>\n",
              "      <td>NaN</td>\n",
              "      <td>NaN</td>\n",
              "      <td>IPVA pago</td>\n",
              "      <td>Licenciado</td>\n",
              "      <td>NaN</td>\n",
              "      <td>NaN</td>\n",
              "      <td>NaN</td>\n",
              "      <td>123681.36</td>\n",
              "    </tr>\n",
              "    <tr>\n",
              "      <th>4</th>\n",
              "      <td>3,39E+38</td>\n",
              "      <td>8.0</td>\n",
              "      <td>SSANGYONG</td>\n",
              "      <td>KORANDO</td>\n",
              "      <td>2.0 GLS 4X4 16V TURBO DIESEL 4P AUTOMÁTICO</td>\n",
              "      <td>2013</td>\n",
              "      <td>2015.0</td>\n",
              "      <td>71491.0</td>\n",
              "      <td>Automática</td>\n",
              "      <td>4</td>\n",
              "      <td>...</td>\n",
              "      <td>False</td>\n",
              "      <td>NaN</td>\n",
              "      <td>NaN</td>\n",
              "      <td>Todas as revisões feitas pela concessionária</td>\n",
              "      <td>NaN</td>\n",
              "      <td>NaN</td>\n",
              "      <td>Garantia de fábrica</td>\n",
              "      <td>Todas as revisões feitas pela agenda do carro</td>\n",
              "      <td>NaN</td>\n",
              "      <td>82419.76</td>\n",
              "    </tr>\n",
              "  </tbody>\n",
              "</table>\n",
              "<p>5 rows × 29 columns</p>\n",
              "</div>\n",
              "      <button class=\"colab-df-convert\" onclick=\"convertToInteractive('df-f468eb70-63ab-4197-b2b8-e82a08952640')\"\n",
              "              title=\"Convert this dataframe to an interactive table.\"\n",
              "              style=\"display:none;\">\n",
              "\n",
              "  <svg xmlns=\"http://www.w3.org/2000/svg\" height=\"24px\"viewBox=\"0 0 24 24\"\n",
              "       width=\"24px\">\n",
              "    <path d=\"M0 0h24v24H0V0z\" fill=\"none\"/>\n",
              "    <path d=\"M18.56 5.44l.94 2.06.94-2.06 2.06-.94-2.06-.94-.94-2.06-.94 2.06-2.06.94zm-11 1L8.5 8.5l.94-2.06 2.06-.94-2.06-.94L8.5 2.5l-.94 2.06-2.06.94zm10 10l.94 2.06.94-2.06 2.06-.94-2.06-.94-.94-2.06-.94 2.06-2.06.94z\"/><path d=\"M17.41 7.96l-1.37-1.37c-.4-.4-.92-.59-1.43-.59-.52 0-1.04.2-1.43.59L10.3 9.45l-7.72 7.72c-.78.78-.78 2.05 0 2.83L4 21.41c.39.39.9.59 1.41.59.51 0 1.02-.2 1.41-.59l7.78-7.78 2.81-2.81c.8-.78.8-2.07 0-2.86zM5.41 20L4 18.59l7.72-7.72 1.47 1.35L5.41 20z\"/>\n",
              "  </svg>\n",
              "      </button>\n",
              "\n",
              "\n",
              "\n",
              "    <div id=\"df-b4ee0d59-4d56-4e0c-8354-b1886f68c25a\">\n",
              "      <button class=\"colab-df-quickchart\" onclick=\"quickchart('df-b4ee0d59-4d56-4e0c-8354-b1886f68c25a')\"\n",
              "              title=\"Suggest charts.\"\n",
              "              style=\"display:none;\">\n",
              "\n",
              "<svg xmlns=\"http://www.w3.org/2000/svg\" height=\"24px\"viewBox=\"0 0 24 24\"\n",
              "     width=\"24px\">\n",
              "    <g>\n",
              "        <path d=\"M19 3H5c-1.1 0-2 .9-2 2v14c0 1.1.9 2 2 2h14c1.1 0 2-.9 2-2V5c0-1.1-.9-2-2-2zM9 17H7v-7h2v7zm4 0h-2V7h2v10zm4 0h-2v-4h2v4z\"/>\n",
              "    </g>\n",
              "</svg>\n",
              "      </button>\n",
              "    </div>\n",
              "\n",
              "<style>\n",
              "  .colab-df-quickchart {\n",
              "    background-color: #E8F0FE;\n",
              "    border: none;\n",
              "    border-radius: 50%;\n",
              "    cursor: pointer;\n",
              "    display: none;\n",
              "    fill: #1967D2;\n",
              "    height: 32px;\n",
              "    padding: 0 0 0 0;\n",
              "    width: 32px;\n",
              "  }\n",
              "\n",
              "  .colab-df-quickchart:hover {\n",
              "    background-color: #E2EBFA;\n",
              "    box-shadow: 0px 1px 2px rgba(60, 64, 67, 0.3), 0px 1px 3px 1px rgba(60, 64, 67, 0.15);\n",
              "    fill: #174EA6;\n",
              "  }\n",
              "\n",
              "  [theme=dark] .colab-df-quickchart {\n",
              "    background-color: #3B4455;\n",
              "    fill: #D2E3FC;\n",
              "  }\n",
              "\n",
              "  [theme=dark] .colab-df-quickchart:hover {\n",
              "    background-color: #434B5C;\n",
              "    box-shadow: 0px 1px 3px 1px rgba(0, 0, 0, 0.15);\n",
              "    filter: drop-shadow(0px 1px 2px rgba(0, 0, 0, 0.3));\n",
              "    fill: #FFFFFF;\n",
              "  }\n",
              "</style>\n",
              "\n",
              "    <script>\n",
              "      async function quickchart(key) {\n",
              "        const containerElement = document.querySelector('#' + key);\n",
              "        const charts = await google.colab.kernel.invokeFunction(\n",
              "            'suggestCharts', [key], {});\n",
              "      }\n",
              "    </script>\n",
              "\n",
              "      <script>\n",
              "\n",
              "function displayQuickchartButton(domScope) {\n",
              "  let quickchartButtonEl =\n",
              "    domScope.querySelector('#df-b4ee0d59-4d56-4e0c-8354-b1886f68c25a button.colab-df-quickchart');\n",
              "  quickchartButtonEl.style.display =\n",
              "    google.colab.kernel.accessAllowed ? 'block' : 'none';\n",
              "}\n",
              "\n",
              "        displayQuickchartButton(document);\n",
              "      </script>\n",
              "      <style>\n",
              "    .colab-df-container {\n",
              "      display:flex;\n",
              "      flex-wrap:wrap;\n",
              "      gap: 12px;\n",
              "    }\n",
              "\n",
              "    .colab-df-convert {\n",
              "      background-color: #E8F0FE;\n",
              "      border: none;\n",
              "      border-radius: 50%;\n",
              "      cursor: pointer;\n",
              "      display: none;\n",
              "      fill: #1967D2;\n",
              "      height: 32px;\n",
              "      padding: 0 0 0 0;\n",
              "      width: 32px;\n",
              "    }\n",
              "\n",
              "    .colab-df-convert:hover {\n",
              "      background-color: #E2EBFA;\n",
              "      box-shadow: 0px 1px 2px rgba(60, 64, 67, 0.3), 0px 1px 3px 1px rgba(60, 64, 67, 0.15);\n",
              "      fill: #174EA6;\n",
              "    }\n",
              "\n",
              "    [theme=dark] .colab-df-convert {\n",
              "      background-color: #3B4455;\n",
              "      fill: #D2E3FC;\n",
              "    }\n",
              "\n",
              "    [theme=dark] .colab-df-convert:hover {\n",
              "      background-color: #434B5C;\n",
              "      box-shadow: 0px 1px 3px 1px rgba(0, 0, 0, 0.15);\n",
              "      filter: drop-shadow(0px 1px 2px rgba(0, 0, 0, 0.3));\n",
              "      fill: #FFFFFF;\n",
              "    }\n",
              "  </style>\n",
              "\n",
              "      <script>\n",
              "        const buttonEl =\n",
              "          document.querySelector('#df-f468eb70-63ab-4197-b2b8-e82a08952640 button.colab-df-convert');\n",
              "        buttonEl.style.display =\n",
              "          google.colab.kernel.accessAllowed ? 'block' : 'none';\n",
              "\n",
              "        async function convertToInteractive(key) {\n",
              "          const element = document.querySelector('#df-f468eb70-63ab-4197-b2b8-e82a08952640');\n",
              "          const dataTable =\n",
              "            await google.colab.kernel.invokeFunction('convertToInteractive',\n",
              "                                                     [key], {});\n",
              "          if (!dataTable) return;\n",
              "\n",
              "          const docLinkHtml = 'Like what you see? Visit the ' +\n",
              "            '<a target=\"_blank\" href=https://colab.research.google.com/notebooks/data_table.ipynb>data table notebook</a>'\n",
              "            + ' to learn more about interactive tables.';\n",
              "          element.innerHTML = '';\n",
              "          dataTable['output_type'] = 'display_data';\n",
              "          await google.colab.output.renderOutput(dataTable, element);\n",
              "          const docLink = document.createElement('div');\n",
              "          docLink.innerHTML = docLinkHtml;\n",
              "          element.appendChild(docLink);\n",
              "        }\n",
              "      </script>\n",
              "    </div>\n",
              "  </div>\n"
            ]
          },
          "metadata": {},
          "execution_count": 4
        }
      ]
    },
    {
      "cell_type": "code",
      "source": [
        "df[\"preco\"] = df['preco'].astype(float)\n"
      ],
      "metadata": {
        "id": "TGotZpJ2g_wA"
      },
      "execution_count": null,
      "outputs": []
    },
    {
      "cell_type": "code",
      "source": [
        "df.info()"
      ],
      "metadata": {
        "colab": {
          "base_uri": "https://localhost:8080/"
        },
        "id": "VrPA6MXuU0Uz",
        "outputId": "1fb62891-83fd-4f73-da44-a9af4562f8a1"
      },
      "execution_count": null,
      "outputs": [
        {
          "output_type": "stream",
          "name": "stdout",
          "text": [
            "<class 'pandas.core.frame.DataFrame'>\n",
            "RangeIndex: 29584 entries, 0 to 29583\n",
            "Data columns (total 29 columns):\n",
            " #   Column                   Non-Null Count  Dtype  \n",
            "---  ------                   --------------  -----  \n",
            " 0   id                       29584 non-null  object \n",
            " 1   num_fotos                29407 non-null  float64\n",
            " 2   marca                    29584 non-null  object \n",
            " 3   modelo                   29584 non-null  object \n",
            " 4   versao                   29584 non-null  object \n",
            " 5   ano_de_fabricacao        29584 non-null  int64  \n",
            " 6   ano_modelo               29584 non-null  float64\n",
            " 7   hodometro                29584 non-null  float64\n",
            " 8   cambio                   29584 non-null  object \n",
            " 9   num_portas               29584 non-null  int64  \n",
            " 10  tipo                     29584 non-null  object \n",
            " 11  blindado                 29584 non-null  object \n",
            " 12  cor                      29584 non-null  object \n",
            " 13  tipo_vendedor            29584 non-null  object \n",
            " 14  cidade_vendedor          29584 non-null  object \n",
            " 15  estado_vendedor          29584 non-null  object \n",
            " 16  anunciante               29584 non-null  object \n",
            " 17  entrega_delivery         29584 non-null  bool   \n",
            " 18  troca                    29584 non-null  bool   \n",
            " 19  elegivel_revisao         29584 non-null  bool   \n",
            " 20  dono_aceita_troca        21922 non-null  object \n",
            " 21  veiculo_único_dono       10423 non-null  object \n",
            " 22  revisoes_concessionaria  9172 non-null   object \n",
            " 23  ipva_pago                19659 non-null  object \n",
            " 24  veiculo_licenciado       15906 non-null  object \n",
            " 25  garantia_de_fábrica      4365 non-null   object \n",
            " 26  revisoes_dentro_agenda   5910 non-null   object \n",
            " 27  veiculo_alienado         0 non-null      float64\n",
            " 28  preco                    29584 non-null  float64\n",
            "dtypes: bool(3), float64(5), int64(2), object(19)\n",
            "memory usage: 6.0+ MB\n"
          ]
        }
      ]
    },
    {
      "cell_type": "code",
      "source": [
        "df.shape"
      ],
      "metadata": {
        "colab": {
          "base_uri": "https://localhost:8080/"
        },
        "id": "MKPi6_7wC2sW",
        "outputId": "8fc0b878-6bc9-4dea-dde8-763bc21463e5"
      },
      "execution_count": null,
      "outputs": [
        {
          "output_type": "execute_result",
          "data": {
            "text/plain": [
              "(29584, 29)"
            ]
          },
          "metadata": {},
          "execution_count": 8
        }
      ]
    },
    {
      "cell_type": "code",
      "source": [
        "df.isnull().sum()"
      ],
      "metadata": {
        "colab": {
          "base_uri": "https://localhost:8080/"
        },
        "id": "JptWscf_5w9a",
        "outputId": "cc0cac51-d1f8-4c11-cd14-b2bfe2d80c63"
      },
      "execution_count": null,
      "outputs": [
        {
          "output_type": "execute_result",
          "data": {
            "text/plain": [
              "id                             0\n",
              "num_fotos                    177\n",
              "marca                          0\n",
              "modelo                         0\n",
              "versao                         0\n",
              "ano_de_fabricacao              0\n",
              "ano_modelo                     0\n",
              "hodometro                      0\n",
              "cambio                         0\n",
              "num_portas                     0\n",
              "tipo                           0\n",
              "blindado                       0\n",
              "cor                            0\n",
              "tipo_vendedor                  0\n",
              "cidade_vendedor                0\n",
              "estado_vendedor                0\n",
              "anunciante                     0\n",
              "entrega_delivery               0\n",
              "troca                          0\n",
              "elegivel_revisao               0\n",
              "dono_aceita_troca           7662\n",
              "veiculo_único_dono         19161\n",
              "revisoes_concessionaria    20412\n",
              "ipva_pago                   9925\n",
              "veiculo_licenciado         13678\n",
              "garantia_de_fábrica        25219\n",
              "revisoes_dentro_agenda     23674\n",
              "veiculo_alienado           29584\n",
              "preco                          0\n",
              "dtype: int64"
            ]
          },
          "metadata": {},
          "execution_count": 7
        }
      ]
    },
    {
      "cell_type": "code",
      "source": [
        "for column in df.columns:\n",
        "  print(f'{column} possui {df[column].nunique()} valores unicos')\n",
        "  print('------------------------------------------------------')"
      ],
      "metadata": {
        "colab": {
          "base_uri": "https://localhost:8080/"
        },
        "id": "SqnkRto7C7CG",
        "outputId": "fc6f0069-52b9-47ce-c75b-f6522f85321b"
      },
      "execution_count": null,
      "outputs": [
        {
          "output_type": "stream",
          "name": "stdout",
          "text": [
            "id possui 28634 valores unicos\n",
            "------------------------------------------------------\n",
            "num_fotos possui 14 valores unicos\n",
            "------------------------------------------------------\n",
            "marca possui 40 valores unicos\n",
            "------------------------------------------------------\n",
            "modelo possui 457 valores unicos\n",
            "------------------------------------------------------\n",
            "versao possui 1916 valores unicos\n",
            "------------------------------------------------------\n",
            "ano_de_fabricacao possui 35 valores unicos\n",
            "------------------------------------------------------\n",
            "ano_modelo possui 17 valores unicos\n",
            "------------------------------------------------------\n",
            "hodometro possui 26004 valores unicos\n",
            "------------------------------------------------------\n",
            "cambio possui 7 valores unicos\n",
            "------------------------------------------------------\n",
            "num_portas possui 3 valores unicos\n",
            "------------------------------------------------------\n",
            "tipo possui 7 valores unicos\n",
            "------------------------------------------------------\n",
            "blindado possui 2 valores unicos\n",
            "------------------------------------------------------\n",
            "cor possui 7 valores unicos\n",
            "------------------------------------------------------\n",
            "tipo_vendedor possui 2 valores unicos\n",
            "------------------------------------------------------\n",
            "cidade_vendedor possui 575 valores unicos\n",
            "------------------------------------------------------\n",
            "estado_vendedor possui 25 valores unicos\n",
            "------------------------------------------------------\n",
            "anunciante possui 4 valores unicos\n",
            "------------------------------------------------------\n",
            "entrega_delivery possui 2 valores unicos\n",
            "------------------------------------------------------\n",
            "troca possui 2 valores unicos\n",
            "------------------------------------------------------\n",
            "elegivel_revisao possui 1 valores unicos\n",
            "------------------------------------------------------\n",
            "dono_aceita_troca possui 1 valores unicos\n",
            "------------------------------------------------------\n",
            "veiculo_único_dono possui 1 valores unicos\n",
            "------------------------------------------------------\n",
            "revisoes_concessionaria possui 1 valores unicos\n",
            "------------------------------------------------------\n",
            "ipva_pago possui 1 valores unicos\n",
            "------------------------------------------------------\n",
            "veiculo_licenciado possui 1 valores unicos\n",
            "------------------------------------------------------\n",
            "garantia_de_fábrica possui 1 valores unicos\n",
            "------------------------------------------------------\n",
            "revisoes_dentro_agenda possui 1 valores unicos\n",
            "------------------------------------------------------\n",
            "veiculo_alienado possui 0 valores unicos\n",
            "------------------------------------------------------\n",
            "preco possui 29584 valores unicos\n",
            "------------------------------------------------------\n"
          ]
        }
      ]
    },
    {
      "cell_type": "code",
      "source": [
        "df.columns"
      ],
      "metadata": {
        "colab": {
          "base_uri": "https://localhost:8080/"
        },
        "id": "94xlnCOBC7DS",
        "outputId": "f5df2e43-1290-47c8-caa2-7049808afe5b"
      },
      "execution_count": null,
      "outputs": [
        {
          "output_type": "execute_result",
          "data": {
            "text/plain": [
              "Index(['id', 'num_fotos', 'marca', 'modelo', 'versao', 'ano_de_fabricacao',\n",
              "       'ano_modelo', 'hodometro', 'cambio', 'num_portas', 'tipo', 'blindado',\n",
              "       'cor', 'tipo_vendedor', 'cidade_vendedor', 'estado_vendedor',\n",
              "       'anunciante', 'entrega_delivery', 'troca', 'elegivel_revisao',\n",
              "       'dono_aceita_troca', 'veiculo_único_dono', 'revisoes_concessionaria',\n",
              "       'ipva_pago', 'veiculo_licenciado', 'garantia_de_fábrica',\n",
              "       'revisoes_dentro_agenda', 'veiculo_alienado', 'preco'],\n",
              "      dtype='object')"
            ]
          },
          "metadata": {},
          "execution_count": 14
        }
      ]
    },
    {
      "cell_type": "markdown",
      "source": [
        "# EDA"
      ],
      "metadata": {
        "id": "BE7wKZVPHbeE"
      }
    },
    {
      "cell_type": "markdown",
      "source": [
        "Na EDA as váriaveis serão analisadas e investigadas\n",
        "\n",
        "Será utilizado gráficos e medidas de posição quando necessário"
      ],
      "metadata": {
        "id": "ZziYO32PHd8h"
      }
    },
    {
      "cell_type": "markdown",
      "source": [
        "# Preços dos carros"
      ],
      "metadata": {
        "id": "YTKoFGmw5rrw"
      }
    },
    {
      "cell_type": "code",
      "source": [
        "plt.figure(figsize=(15,10))\n",
        "sns.histplot(df['preco'], kde=True)"
      ],
      "metadata": {
        "colab": {
          "base_uri": "https://localhost:8080/",
          "height": 780
        },
        "id": "n_-M5ftFDJoM",
        "outputId": "c505ecdd-817b-4c8c-ada2-fe8d487a4f39"
      },
      "execution_count": null,
      "outputs": [
        {
          "output_type": "execute_result",
          "data": {
            "text/plain": [
              "<Axes: xlabel='preco', ylabel='Count'>"
            ]
          },
          "metadata": {},
          "execution_count": 9
        },
        {
          "output_type": "display_data",
          "data": {
            "text/plain": [
              "<Figure size 1500x1000 with 1 Axes>"
            ],
            "image/png": "[encoded data removed]"
          },
          "metadata": {}
        }
      ]
    },
    {
      "cell_type": "code",
      "source": [
        "df[\"preco\"].mean()"
      ],
      "metadata": {
        "colab": {
          "base_uri": "https://localhost:8080/"
        },
        "id": "1rfb1guMn_3Q",
        "outputId": "6327841d-dd37-4cce-829b-fa5bde14e9b6"
      },
      "execution_count": null,
      "outputs": [
        {
          "output_type": "execute_result",
          "data": {
            "text/plain": [
              "133023.87989791777"
            ]
          },
          "metadata": {},
          "execution_count": 10
        }
      ]
    },
    {
      "cell_type": "code",
      "source": [
        "df[\"preco\"].max()"
      ],
      "metadata": {
        "colab": {
          "base_uri": "https://localhost:8080/"
        },
        "id": "l4-TFtlWoI_x",
        "outputId": "7e3054ae-686b-4d53-9f9b-fe3f5edb3ee4"
      },
      "execution_count": null,
      "outputs": [
        {
          "output_type": "execute_result",
          "data": {
            "text/plain": [
              "1359812.89"
            ]
          },
          "metadata": {},
          "execution_count": 11
        }
      ]
    },
    {
      "cell_type": "code",
      "source": [
        "df[\"preco\"].min()"
      ],
      "metadata": {
        "colab": {
          "base_uri": "https://localhost:8080/"
        },
        "id": "St0ec_ibhahY",
        "outputId": "962d039e-337b-4ae3-c461-5ea851a7c296"
      },
      "execution_count": null,
      "outputs": [
        {
          "output_type": "execute_result",
          "data": {
            "text/plain": [
              "9869.95"
            ]
          },
          "metadata": {},
          "execution_count": 12
        }
      ]
    },
    {
      "cell_type": "markdown",
      "source": [
        "*   Preço médio é 133.023,87\n",
        "*   Preço Máximo é 1.359.812,89\n",
        "*   Preço Minimo é 9.869,95\n"
      ],
      "metadata": {
        "id": "uq0yv__CIQJm"
      }
    },
    {
      "cell_type": "markdown",
      "source": [
        "# Números de fotos no anúncio"
      ],
      "metadata": {
        "id": "n76ehDKeGEcY"
      }
    },
    {
      "cell_type": "code",
      "source": [
        "plt.figure(figsize=(10,6))\n",
        "sns.histplot(df['num_fotos'])"
      ],
      "metadata": {
        "colab": {
          "base_uri": "https://localhost:8080/",
          "height": 563
        },
        "id": "bZof4_zfGHKj",
        "outputId": "8095ad7f-301b-4c3a-9b02-aed6a8ebaecf"
      },
      "execution_count": null,
      "outputs": [
        {
          "output_type": "execute_result",
          "data": {
            "text/plain": [
              "<Axes: xlabel='num_fotos', ylabel='Count'>"
            ]
          },
          "metadata": {},
          "execution_count": 13
        },
        {
          "output_type": "display_data",
          "data": {
            "text/plain": [
              "<Figure size 1000x600 with 1 Axes>"
            ],
            "image/png": "[encoded data removed]"
          },
          "metadata": {}
        }
      ]
    },
    {
      "cell_type": "code",
      "source": [
        "df['num_fotos'].describe()"
      ],
      "metadata": {
        "colab": {
          "base_uri": "https://localhost:8080/"
        },
        "id": "NNN6907OGZ8f",
        "outputId": "1a2e4acc-efb2-434a-bb3a-727714e947f1"
      },
      "execution_count": null,
      "outputs": [
        {
          "output_type": "execute_result",
          "data": {
            "text/plain": [
              "count    29407.000000\n",
              "mean        10.323834\n",
              "std          3.487334\n",
              "min          8.000000\n",
              "25%          8.000000\n",
              "50%          8.000000\n",
              "75%         14.000000\n",
              "max         21.000000\n",
              "Name: num_fotos, dtype: float64"
            ]
          },
          "metadata": {},
          "execution_count": 80
        }
      ]
    },
    {
      "cell_type": "markdown",
      "source": [
        "*   Número de fotos médias é 10,32\n",
        "*   Número de fotos minimas é 8\n",
        "*   Número de fotos máxima é 21"
      ],
      "metadata": {
        "id": "hXIw4LyTIhQW"
      }
    },
    {
      "cell_type": "code",
      "source": [
        "df['num_fotos'].isnull().sum()"
      ],
      "metadata": {
        "colab": {
          "base_uri": "https://localhost:8080/"
        },
        "id": "KmbQ63EkGiKI",
        "outputId": "11a97d5c-d01e-4b69-a97f-8cca29e1d0dc"
      },
      "execution_count": null,
      "outputs": [
        {
          "output_type": "execute_result",
          "data": {
            "text/plain": [
              "177"
            ]
          },
          "metadata": {},
          "execution_count": 14
        }
      ]
    },
    {
      "cell_type": "markdown",
      "source": [
        "*   177 de valores ausentes"
      ],
      "metadata": {
        "id": "D_x9zzp0IslL"
      }
    },
    {
      "cell_type": "markdown",
      "source": [
        "# Marcas e modelos"
      ],
      "metadata": {
        "id": "RIeL4HlmGtpD"
      }
    },
    {
      "cell_type": "code",
      "source": [
        "dist = df['marca'].value_counts(normalize = True)*100\n",
        "print(dist)"
      ],
      "metadata": {
        "colab": {
          "base_uri": "https://localhost:8080/"
        },
        "id": "6VHcbGkAHNnA",
        "outputId": "21adae00-b900-44a8-ad4b-a4bb74ecc7b8"
      },
      "execution_count": null,
      "outputs": [
        {
          "output_type": "stream",
          "name": "stdout",
          "text": [
            "VOLKSWAGEN       15.528664\n",
            "CHEVROLET        10.208221\n",
            "TOYOTA            7.368848\n",
            "HYUNDAI           6.905760\n",
            "JEEP              6.760411\n",
            "FIAT              6.483234\n",
            "BMW               6.030287\n",
            "AUDI              5.739589\n",
            "PEUGEOT           5.661844\n",
            "HONDA             5.361006\n",
            "MERCEDES-BENZ     3.802731\n",
            "FORD              3.583018\n",
            "MITSUBISHI        2.913737\n",
            "LAND ROVER        2.568956\n",
            "RENAULT           1.818551\n",
            "NISSAN            1.480530\n",
            "KIA               1.379124\n",
            "PORSCHE           1.179692\n",
            "VOLVO             0.970119\n",
            "CITROËN           0.655760\n",
            "TROLLER           0.598296\n",
            "RAM               0.567875\n",
            "CHERY             0.517171\n",
            "JAGUAR            0.500270\n",
            "MINI              0.463088\n",
            "LEXUS             0.253515\n",
            "SUZUKI            0.138588\n",
            "SUBARU            0.138588\n",
            "DODGE             0.125068\n",
            "CHRYSLER          0.101406\n",
            "SSANGYONG         0.047323\n",
            "SMART             0.040562\n",
            "ALFA ROMEO        0.030422\n",
            "LIFAN             0.027042\n",
            "MASERATI          0.023661\n",
            "JAC               0.010141\n",
            "IVECO             0.006760\n",
            "EFFA              0.003380\n",
            "FERRARI           0.003380\n",
            "BRM               0.003380\n",
            "Name: marca, dtype: float64\n"
          ]
        }
      ]
    },
    {
      "cell_type": "markdown",
      "source": [
        "*   VW representa mais de 15% da base\n",
        "*   CHEVROLET tem mais de 10%\n",
        "*  TOYOTA, HYUNDAI, JEEP, FIAT, BMW, AUDI, PEUGEOT, HONDA e MERCEDES-BENz, FORD tem mais de 5% e menos de 7,5% separados\n",
        "* MITSUBISHI LAND ROVER RENAULT NISSAN KIA PORSCHE tem entre 1% a menos de 4% separados\n",
        "* As outras marcas tem menos de 1%"
      ],
      "metadata": {
        "id": "EfEO2yqiI9q5"
      }
    },
    {
      "cell_type": "code",
      "source": [
        "dist = df['modelo'].value_counts(normalize = True)*100\n",
        "print(dist)"
      ],
      "metadata": {
        "colab": {
          "base_uri": "https://localhost:8080/"
        },
        "id": "KLeu9ouZGz9T",
        "outputId": "d156bca4-b09c-4350-f839-33758888540c"
      },
      "execution_count": null,
      "outputs": [
        {
          "output_type": "stream",
          "name": "stdout",
          "text": [
            "modelo\n",
            "COMPASS         5.002704\n",
            "2008            4.837074\n",
            "Q3              3.089508\n",
            "TORO            3.048945\n",
            "COROLLA         2.930638\n",
            "                  ...   \n",
            "X-TRAIL         0.003380\n",
            "QUATTROPORTE    0.003380\n",
            "ES              0.003380\n",
            "S4              0.003380\n",
            "SLK 230         0.003380\n",
            "Name: proportion, Length: 457, dtype: float64\n"
          ]
        }
      ]
    },
    {
      "cell_type": "markdown",
      "source": [
        "* Compass é o carro que mais aparece\n",
        "* SLK é o carro que menos aparece"
      ],
      "metadata": {
        "id": "IZOVb3vfKof1"
      }
    },
    {
      "cell_type": "markdown",
      "source": [
        "# Ano de fabricação e ano modelo"
      ],
      "metadata": {
        "id": "SkQfbiqwIONK"
      }
    },
    {
      "cell_type": "code",
      "source": [
        "plt.figure(figsize=(10,6))\n",
        "sns.histplot(df['ano_de_fabricacao'])"
      ],
      "metadata": {
        "colab": {
          "base_uri": "https://localhost:8080/",
          "height": 563
        },
        "id": "o_gwm3CFIqFx",
        "outputId": "e6d64c57-0db6-4c93-d0c1-f15bc0aaa0c4"
      },
      "execution_count": null,
      "outputs": [
        {
          "output_type": "execute_result",
          "data": {
            "text/plain": [
              "<Axes: xlabel='ano_de_fabricacao', ylabel='Count'>"
            ]
          },
          "metadata": {},
          "execution_count": 26
        },
        {
          "output_type": "display_data",
          "data": {
            "text/plain": [
              "<Figure size 1000x600 with 1 Axes>"
            ],
            "image/png": "[encoded data removed]"
          },
          "metadata": {}
        }
      ]
    },
    {
      "cell_type": "code",
      "source": [
        "dist = df['ano_de_fabricacao'].value_counts(normalize = True)*100\n",
        "print(dist)"
      ],
      "metadata": {
        "colab": {
          "base_uri": "https://localhost:8080/"
        },
        "id": "8ij2RMJ2I2rx",
        "outputId": "72052409-11eb-42d3-aa38-b974eb5e54e6"
      },
      "execution_count": null,
      "outputs": [
        {
          "output_type": "stream",
          "name": "stdout",
          "text": [
            "ano_de_fabricacao\n",
            "2020    15.984992\n",
            "2017    14.768118\n",
            "2019    13.115197\n",
            "2018    12.912385\n",
            "2021     8.835857\n",
            "2013     8.257842\n",
            "2014     7.507436\n",
            "2016     6.158734\n",
            "2015     5.925500\n",
            "2012     1.720525\n",
            "2007     0.409005\n",
            "2008     0.395484\n",
            "2001     0.321120\n",
            "2006     0.297458\n",
            "2010     0.280557\n",
            "2009     0.277177\n",
            "2000     0.273797\n",
            "2002     0.270416\n",
            "1999     0.270416\n",
            "2011     0.253515\n",
            "2003     0.243375\n",
            "1998     0.223094\n",
            "2005     0.209573\n",
            "1997     0.206193\n",
            "1996     0.196052\n",
            "2004     0.185911\n",
            "2022     0.125068\n",
            "1995     0.114927\n",
            "1994     0.104786\n",
            "1993     0.050703\n",
            "1992     0.047323\n",
            "1991     0.033802\n",
            "1990     0.013521\n",
            "1988     0.006760\n",
            "1985     0.003380\n",
            "Name: proportion, dtype: float64\n"
          ]
        }
      ]
    },
    {
      "cell_type": "code",
      "source": [
        "plt.figure(figsize=(10,6))\n",
        "sns.histplot(df['ano_modelo'])"
      ],
      "metadata": {
        "colab": {
          "base_uri": "https://localhost:8080/",
          "height": 563
        },
        "id": "_WUHkY9ZLPxS",
        "outputId": "400c6270-6b71-476d-da60-0c5e34b18f8b"
      },
      "execution_count": null,
      "outputs": [
        {
          "output_type": "execute_result",
          "data": {
            "text/plain": [
              "<Axes: xlabel='ano_modelo', ylabel='Count'>"
            ]
          },
          "metadata": {},
          "execution_count": 29
        },
        {
          "output_type": "display_data",
          "data": {
            "text/plain": [
              "<Figure size 1000x600 with 1 Axes>"
            ],
            "image/png": "[encoded data removed]"
          },
          "metadata": {}
        }
      ]
    },
    {
      "cell_type": "code",
      "source": [
        "df['ano_modelo'].value_counts(normalize = True)*100\n"
      ],
      "metadata": {
        "colab": {
          "base_uri": "https://localhost:8080/"
        },
        "id": "sfTkHoHjLe4S",
        "outputId": "6cbde9c1-d15d-4eda-a45c-14fac74eabd6"
      },
      "execution_count": null,
      "outputs": [
        {
          "output_type": "execute_result",
          "data": {
            "text/plain": [
              "ano_modelo\n",
              "2021.0    17.141022\n",
              "2017.0    15.275149\n",
              "2018.0    14.267847\n",
              "2019.0    12.124797\n",
              "2020.0    11.969308\n",
              "2015.0     8.065170\n",
              "2014.0     8.034749\n",
              "2013.0     4.096809\n",
              "2016.0     3.008383\n",
              "2022.0     2.802190\n",
              "2012.0     2.342482\n",
              "2011.0     0.770687\n",
              "2023.0     0.050703\n",
              "2010.0     0.030422\n",
              "2008.0     0.013521\n",
              "2006.0     0.003380\n",
              "1997.0     0.003380\n",
              "Name: proportion, dtype: float64"
            ]
          },
          "metadata": {},
          "execution_count": 33
        }
      ]
    },
    {
      "cell_type": "code",
      "source": [
        "df['ano_de_fabricacao'].value_counts()"
      ],
      "metadata": {
        "colab": {
          "base_uri": "https://localhost:8080/"
        },
        "id": "EuLQxWNyLtrn",
        "outputId": "02537622-b5e8-4fe1-c2b8-28a665a32c96"
      },
      "execution_count": null,
      "outputs": [
        {
          "output_type": "execute_result",
          "data": {
            "text/plain": [
              "ano_de_fabricacao\n",
              "2020    4729\n",
              "2017    4369\n",
              "2019    3880\n",
              "2018    3820\n",
              "2021    2614\n",
              "2013    2443\n",
              "2014    2221\n",
              "2016    1822\n",
              "2015    1753\n",
              "2012     509\n",
              "2007     121\n",
              "2008     117\n",
              "2001      95\n",
              "2006      88\n",
              "2010      83\n",
              "2009      82\n",
              "2000      81\n",
              "2002      80\n",
              "1999      80\n",
              "2011      75\n",
              "2003      72\n",
              "1998      66\n",
              "2005      62\n",
              "1997      61\n",
              "1996      58\n",
              "2004      55\n",
              "2022      37\n",
              "1995      34\n",
              "1994      31\n",
              "1993      15\n",
              "1992      14\n",
              "1991      10\n",
              "1990       4\n",
              "1988       2\n",
              "1985       1\n",
              "Name: count, dtype: int64"
            ]
          },
          "metadata": {},
          "execution_count": 37
        }
      ]
    },
    {
      "cell_type": "code",
      "source": [
        "df['ano_de_fabricacao'].describe()"
      ],
      "metadata": {
        "colab": {
          "base_uri": "https://localhost:8080/"
        },
        "id": "6njOVTe6LykD",
        "outputId": "04f6e3b7-e268-4d35-f702-8a526ac1b90f"
      },
      "execution_count": null,
      "outputs": [
        {
          "output_type": "execute_result",
          "data": {
            "text/plain": [
              "count    29584.000000\n",
              "mean      2016.758552\n",
              "std          4.062422\n",
              "min       1985.000000\n",
              "25%       2015.000000\n",
              "50%       2018.000000\n",
              "75%       2019.000000\n",
              "max       2022.000000\n",
              "Name: ano_de_fabricacao, dtype: float64"
            ]
          },
          "metadata": {},
          "execution_count": 32
        }
      ]
    },
    {
      "cell_type": "markdown",
      "source": [
        "* A base é composta por carros lançados mais recentemente, os modelos que mais aparecem são após 2015"
      ],
      "metadata": {
        "id": "HgtgOS2mK2J2"
      }
    },
    {
      "cell_type": "markdown",
      "source": [
        "# Hodômetro"
      ],
      "metadata": {
        "id": "XYgJR3iHMKSP"
      }
    },
    {
      "cell_type": "code",
      "source": [
        "plt.figure(figsize=(10,6))\n",
        "sns.histplot(df['hodometro'])"
      ],
      "metadata": {
        "colab": {
          "base_uri": "https://localhost:8080/",
          "height": 563
        },
        "id": "IivyWoGFMM00",
        "outputId": "a2131d92-cc7e-452e-d4a1-76bcfbe594b5"
      },
      "execution_count": null,
      "outputs": [
        {
          "output_type": "execute_result",
          "data": {
            "text/plain": [
              "<Axes: xlabel='hodometro', ylabel='Count'>"
            ]
          },
          "metadata": {},
          "execution_count": 39
        },
        {
          "output_type": "display_data",
          "data": {
            "text/plain": [
              "<Figure size 1000x600 with 1 Axes>"
            ],
            "image/png": "[encoded data removed]"
          },
          "metadata": {}
        }
      ]
    },
    {
      "cell_type": "code",
      "source": [
        "df['hodometro'].describe()"
      ],
      "metadata": {
        "colab": {
          "base_uri": "https://localhost:8080/"
        },
        "id": "pxzbogJNMWbM",
        "outputId": "38f089ae-839d-4ea8-ff7b-58d1b6fb043a"
      },
      "execution_count": null,
      "outputs": [
        {
          "output_type": "execute_result",
          "data": {
            "text/plain": [
              "count     29584.000000\n",
              "mean      58430.592077\n",
              "std       32561.769309\n",
              "min         100.000000\n",
              "25%       31214.000000\n",
              "50%       57434.000000\n",
              "75%       81953.500000\n",
              "max      390065.000000\n",
              "Name: hodometro, dtype: float64"
            ]
          },
          "metadata": {},
          "execution_count": 40
        }
      ]
    },
    {
      "cell_type": "markdown",
      "source": [
        "*   média é 58.430,59\n",
        "*   minima é 100\n",
        "*   máxima 390.065\n",
        "\n",
        "*   A base tem em sua média carros abaixo dos 60 mil km"
      ],
      "metadata": {
        "id": "9pqo10cMLauN"
      }
    },
    {
      "cell_type": "markdown",
      "source": [
        "# Cambio"
      ],
      "metadata": {
        "id": "YQzXVCO4Mfj7"
      }
    },
    {
      "cell_type": "code",
      "source": [
        "plt.figure(figsize=(16,6))\n",
        "sns.histplot(df['cambio'])"
      ],
      "metadata": {
        "colab": {
          "base_uri": "https://localhost:8080/",
          "height": 475
        },
        "id": "b5-l7-cEMk_w",
        "outputId": "d021c7b7-d155-4a46-c9c1-b259804c3709"
      },
      "execution_count": null,
      "outputs": [
        {
          "output_type": "execute_result",
          "data": {
            "text/plain": [
              "<Axes: xlabel='cambio', ylabel='Count'>"
            ]
          },
          "metadata": {},
          "execution_count": 43
        },
        {
          "output_type": "display_data",
          "data": {
            "text/plain": [
              "<Figure size 1600x600 with 1 Axes>"
            ],
            "image/png": "[encoded data removed]"
          },
          "metadata": {}
        }
      ]
    },
    {
      "cell_type": "code",
      "source": [
        "df['cambio'].describe()"
      ],
      "metadata": {
        "colab": {
          "base_uri": "https://localhost:8080/"
        },
        "id": "2ehLs52DMzws",
        "outputId": "0ea14584-0679-41fb-bb56-a0f11d455569"
      },
      "execution_count": null,
      "outputs": [
        {
          "output_type": "execute_result",
          "data": {
            "text/plain": [
              "count          29584\n",
              "unique             7\n",
              "top       Automática\n",
              "freq           22545\n",
              "Name: cambio, dtype: object"
            ]
          },
          "metadata": {},
          "execution_count": 46
        }
      ]
    },
    {
      "cell_type": "code",
      "source": [
        "df['cambio'].value_counts()"
      ],
      "metadata": {
        "colab": {
          "base_uri": "https://localhost:8080/"
        },
        "id": "cEIiLlhSNAjb",
        "outputId": "4a84d218-3e20-403c-cc59-f499227d7e61"
      },
      "execution_count": null,
      "outputs": [
        {
          "output_type": "execute_result",
          "data": {
            "text/plain": [
              "cambio\n",
              "Automática               22545\n",
              "Manual                    4989\n",
              "CVT                       1792\n",
              "Automatizada               139\n",
              "Automatizada DCT            53\n",
              "Semi-automática             41\n",
              "Automática Sequencial       25\n",
              "Name: count, dtype: int64"
            ]
          },
          "metadata": {},
          "execution_count": 47
        }
      ]
    },
    {
      "cell_type": "code",
      "source": [
        "df['cambio'].value_counts(normalize=True)*100"
      ],
      "metadata": {
        "colab": {
          "base_uri": "https://localhost:8080/"
        },
        "id": "zVlzn_DGNN1T",
        "outputId": "ff5bff7a-7816-4870-94fb-40629c8aec5f"
      },
      "execution_count": null,
      "outputs": [
        {
          "output_type": "execute_result",
          "data": {
            "text/plain": [
              "cambio\n",
              "Automática               76.206733\n",
              "Manual                   16.863845\n",
              "CVT                       6.057328\n",
              "Automatizada              0.469849\n",
              "Automatizada DCT          0.179151\n",
              "Semi-automática           0.138588\n",
              "Automática Sequencial     0.084505\n",
              "Name: proportion, dtype: float64"
            ]
          },
          "metadata": {},
          "execution_count": 92
        }
      ]
    },
    {
      "cell_type": "markdown",
      "source": [
        "*   Tem 16,86% de carros manuais\n",
        "*   CVT e automático passam de 92%"
      ],
      "metadata": {
        "id": "AREiS4FwisWW"
      }
    },
    {
      "cell_type": "markdown",
      "source": [
        "# Números de porta"
      ],
      "metadata": {
        "id": "eTr0hUKji8fX"
      }
    },
    {
      "cell_type": "code",
      "source": [
        "df.columns"
      ],
      "metadata": {
        "colab": {
          "base_uri": "https://localhost:8080/"
        },
        "id": "sajO5AkXi9DW",
        "outputId": "e3af18cf-495f-49da-fe36-8089f4b31536"
      },
      "execution_count": null,
      "outputs": [
        {
          "output_type": "execute_result",
          "data": {
            "text/plain": [
              "Index(['id', 'num_fotos', 'marca', 'modelo', 'versao', 'ano_de_fabricacao',\n",
              "       'ano_modelo', 'hodometro', 'cambio', 'num_portas', 'tipo', 'blindado',\n",
              "       'cor', 'tipo_vendedor', 'cidade_vendedor', 'estado_vendedor',\n",
              "       'anunciante', 'entrega_delivery', 'troca', 'elegivel_revisao',\n",
              "       'dono_aceita_troca', 'veiculo_único_dono', 'revisoes_concessionaria',\n",
              "       'ipva_pago', 'veiculo_licenciado', 'garantia_de_fábrica',\n",
              "       'revisoes_dentro_agenda', 'veiculo_alienado', 'preco'],\n",
              "      dtype='object')"
            ]
          },
          "metadata": {},
          "execution_count": 93
        }
      ]
    },
    {
      "cell_type": "code",
      "source": [
        "df['num_portas'].value_counts(normalize=True)*100"
      ],
      "metadata": {
        "colab": {
          "base_uri": "https://localhost:8080/"
        },
        "id": "hvJhVcHpjBRg",
        "outputId": "8989d676-f96c-4a7c-cfa2-79fe1e104bd1"
      },
      "execution_count": null,
      "outputs": [
        {
          "output_type": "execute_result",
          "data": {
            "text/plain": [
              "num_portas\n",
              "4    97.001758\n",
              "2     2.934018\n",
              "3     0.064224\n",
              "Name: proportion, dtype: float64"
            ]
          },
          "metadata": {},
          "execution_count": 95
        }
      ]
    },
    {
      "cell_type": "markdown",
      "source": [
        "*   Maioria dos carros tem 4 portas\n",
        "\n"
      ],
      "metadata": {
        "id": "h5nkKJECi_zi"
      }
    },
    {
      "cell_type": "markdown",
      "source": [
        "# Tipo de carroceria"
      ],
      "metadata": {
        "id": "T1cc7TjDjb_d"
      }
    },
    {
      "cell_type": "code",
      "source": [
        "df[[\"modelo\", \"tipo\"]]"
      ],
      "metadata": {
        "colab": {
          "base_uri": "https://localhost:8080/",
          "height": 423
        },
        "id": "rD06bFqmjTki",
        "outputId": "a138018b-2dd8-4cef-afb4-71f7ef250033"
      },
      "execution_count": null,
      "outputs": [
        {
          "output_type": "execute_result",
          "data": {
            "text/plain": [
              "        modelo                  tipo\n",
              "0        KICKS                  Sedã\n",
              "1      COMPASS                  Sedã\n",
              "2      SORENTO                  Sedã\n",
              "3       AMAROK                Picape\n",
              "4      KORANDO  Utilitário esportivo\n",
              "...        ...                   ...\n",
              "29579    HILUX                Picape\n",
              "29580     POLO                Picape\n",
              "29581    HILUX                Picape\n",
              "29582     2008                  Sedã\n",
              "29583       Q7  Utilitário esportivo\n",
              "\n",
              "[29584 rows x 2 columns]"
            ],
            "text/html": [
              "\n",
              "\n",
              "  <div id=\"df-215552b7-c526-4f62-95bd-0da411640a50\">\n",
              "    <div class=\"colab-df-container\">\n",
              "      <div>\n",
              "<style scoped>\n",
              "    .dataframe tbody tr th:only-of-type {\n",
              "        vertical-align: middle;\n",
              "    }\n",
              "\n",
              "    .dataframe tbody tr th {\n",
              "        vertical-align: top;\n",
              "    }\n",
              "\n",
              "    .dataframe thead th {\n",
              "        text-align: right;\n",
              "    }\n",
              "</style>\n",
              "<table border=\"1\" class=\"dataframe\">\n",
              "  <thead>\n",
              "    <tr style=\"text-align: right;\">\n",
              "      <th></th>\n",
              "      <th>modelo</th>\n",
              "      <th>tipo</th>\n",
              "    </tr>\n",
              "  </thead>\n",
              "  <tbody>\n",
              "    <tr>\n",
              "      <th>0</th>\n",
              "      <td>KICKS</td>\n",
              "      <td>Sedã</td>\n",
              "    </tr>\n",
              "    <tr>\n",
              "      <th>1</th>\n",
              "      <td>COMPASS</td>\n",
              "      <td>Sedã</td>\n",
              "    </tr>\n",
              "    <tr>\n",
              "      <th>2</th>\n",
              "      <td>SORENTO</td>\n",
              "      <td>Sedã</td>\n",
              "    </tr>\n",
              "    <tr>\n",
              "      <th>3</th>\n",
              "      <td>AMAROK</td>\n",
              "      <td>Picape</td>\n",
              "    </tr>\n",
              "    <tr>\n",
              "      <th>4</th>\n",
              "      <td>KORANDO</td>\n",
              "      <td>Utilitário esportivo</td>\n",
              "    </tr>\n",
              "    <tr>\n",
              "      <th>...</th>\n",
              "      <td>...</td>\n",
              "      <td>...</td>\n",
              "    </tr>\n",
              "    <tr>\n",
              "      <th>29579</th>\n",
              "      <td>HILUX</td>\n",
              "      <td>Picape</td>\n",
              "    </tr>\n",
              "    <tr>\n",
              "      <th>29580</th>\n",
              "      <td>POLO</td>\n",
              "      <td>Picape</td>\n",
              "    </tr>\n",
              "    <tr>\n",
              "      <th>29581</th>\n",
              "      <td>HILUX</td>\n",
              "      <td>Picape</td>\n",
              "    </tr>\n",
              "    <tr>\n",
              "      <th>29582</th>\n",
              "      <td>2008</td>\n",
              "      <td>Sedã</td>\n",
              "    </tr>\n",
              "    <tr>\n",
              "      <th>29583</th>\n",
              "      <td>Q7</td>\n",
              "      <td>Utilitário esportivo</td>\n",
              "    </tr>\n",
              "  </tbody>\n",
              "</table>\n",
              "<p>29584 rows × 2 columns</p>\n",
              "</div>\n",
              "      <button class=\"colab-df-convert\" onclick=\"convertToInteractive('df-215552b7-c526-4f62-95bd-0da411640a50')\"\n",
              "              title=\"Convert this dataframe to an interactive table.\"\n",
              "              style=\"display:none;\">\n",
              "\n",
              "  <svg xmlns=\"http://www.w3.org/2000/svg\" height=\"24px\"viewBox=\"0 0 24 24\"\n",
              "       width=\"24px\">\n",
              "    <path d=\"M0 0h24v24H0V0z\" fill=\"none\"/>\n",
              "    <path d=\"M18.56 5.44l.94 2.06.94-2.06 2.06-.94-2.06-.94-.94-2.06-.94 2.06-2.06.94zm-11 1L8.5 8.5l.94-2.06 2.06-.94-2.06-.94L8.5 2.5l-.94 2.06-2.06.94zm10 10l.94 2.06.94-2.06 2.06-.94-2.06-.94-.94-2.06-.94 2.06-2.06.94z\"/><path d=\"M17.41 7.96l-1.37-1.37c-.4-.4-.92-.59-1.43-.59-.52 0-1.04.2-1.43.59L10.3 9.45l-7.72 7.72c-.78.78-.78 2.05 0 2.83L4 21.41c.39.39.9.59 1.41.59.51 0 1.02-.2 1.41-.59l7.78-7.78 2.81-2.81c.8-.78.8-2.07 0-2.86zM5.41 20L4 18.59l7.72-7.72 1.47 1.35L5.41 20z\"/>\n",
              "  </svg>\n",
              "      </button>\n",
              "\n",
              "\n",
              "\n",
              "    <div id=\"df-cca743ac-f043-49c1-9bc2-58e3714a7407\">\n",
              "      <button class=\"colab-df-quickchart\" onclick=\"quickchart('df-cca743ac-f043-49c1-9bc2-58e3714a7407')\"\n",
              "              title=\"Suggest charts.\"\n",
              "              style=\"display:none;\">\n",
              "\n",
              "<svg xmlns=\"http://www.w3.org/2000/svg\" height=\"24px\"viewBox=\"0 0 24 24\"\n",
              "     width=\"24px\">\n",
              "    <g>\n",
              "        <path d=\"M19 3H5c-1.1 0-2 .9-2 2v14c0 1.1.9 2 2 2h14c1.1 0 2-.9 2-2V5c0-1.1-.9-2-2-2zM9 17H7v-7h2v7zm4 0h-2V7h2v10zm4 0h-2v-4h2v4z\"/>\n",
              "    </g>\n",
              "</svg>\n",
              "      </button>\n",
              "    </div>\n",
              "\n",
              "<style>\n",
              "  .colab-df-quickchart {\n",
              "    background-color: #E8F0FE;\n",
              "    border: none;\n",
              "    border-radius: 50%;\n",
              "    cursor: pointer;\n",
              "    display: none;\n",
              "    fill: #1967D2;\n",
              "    height: 32px;\n",
              "    padding: 0 0 0 0;\n",
              "    width: 32px;\n",
              "  }\n",
              "\n",
              "  .colab-df-quickchart:hover {\n",
              "    background-color: #E2EBFA;\n",
              "    box-shadow: 0px 1px 2px rgba(60, 64, 67, 0.3), 0px 1px 3px 1px rgba(60, 64, 67, 0.15);\n",
              "    fill: #174EA6;\n",
              "  }\n",
              "\n",
              "  [theme=dark] .colab-df-quickchart {\n",
              "    background-color: #3B4455;\n",
              "    fill: #D2E3FC;\n",
              "  }\n",
              "\n",
              "  [theme=dark] .colab-df-quickchart:hover {\n",
              "    background-color: #434B5C;\n",
              "    box-shadow: 0px 1px 3px 1px rgba(0, 0, 0, 0.15);\n",
              "    filter: drop-shadow(0px 1px 2px rgba(0, 0, 0, 0.3));\n",
              "    fill: #FFFFFF;\n",
              "  }\n",
              "</style>\n",
              "\n",
              "    <script>\n",
              "      async function quickchart(key) {\n",
              "        const containerElement = document.querySelector('#' + key);\n",
              "        const charts = await google.colab.kernel.invokeFunction(\n",
              "            'suggestCharts', [key], {});\n",
              "      }\n",
              "    </script>\n",
              "\n",
              "      <script>\n",
              "\n",
              "function displayQuickchartButton(domScope) {\n",
              "  let quickchartButtonEl =\n",
              "    domScope.querySelector('#df-cca743ac-f043-49c1-9bc2-58e3714a7407 button.colab-df-quickchart');\n",
              "  quickchartButtonEl.style.display =\n",
              "    google.colab.kernel.accessAllowed ? 'block' : 'none';\n",
              "}\n",
              "\n",
              "        displayQuickchartButton(document);\n",
              "      </script>\n",
              "      <style>\n",
              "    .colab-df-container {\n",
              "      display:flex;\n",
              "      flex-wrap:wrap;\n",
              "      gap: 12px;\n",
              "    }\n",
              "\n",
              "    .colab-df-convert {\n",
              "      background-color: #E8F0FE;\n",
              "      border: none;\n",
              "      border-radius: 50%;\n",
              "      cursor: pointer;\n",
              "      display: none;\n",
              "      fill: #1967D2;\n",
              "      height: 32px;\n",
              "      padding: 0 0 0 0;\n",
              "      width: 32px;\n",
              "    }\n",
              "\n",
              "    .colab-df-convert:hover {\n",
              "      background-color: #E2EBFA;\n",
              "      box-shadow: 0px 1px 2px rgba(60, 64, 67, 0.3), 0px 1px 3px 1px rgba(60, 64, 67, 0.15);\n",
              "      fill: #174EA6;\n",
              "    }\n",
              "\n",
              "    [theme=dark] .colab-df-convert {\n",
              "      background-color: #3B4455;\n",
              "      fill: #D2E3FC;\n",
              "    }\n",
              "\n",
              "    [theme=dark] .colab-df-convert:hover {\n",
              "      background-color: #434B5C;\n",
              "      box-shadow: 0px 1px 3px 1px rgba(0, 0, 0, 0.15);\n",
              "      filter: drop-shadow(0px 1px 2px rgba(0, 0, 0, 0.3));\n",
              "      fill: #FFFFFF;\n",
              "    }\n",
              "  </style>\n",
              "\n",
              "      <script>\n",
              "        const buttonEl =\n",
              "          document.querySelector('#df-215552b7-c526-4f62-95bd-0da411640a50 button.colab-df-convert');\n",
              "        buttonEl.style.display =\n",
              "          google.colab.kernel.accessAllowed ? 'block' : 'none';\n",
              "\n",
              "        async function convertToInteractive(key) {\n",
              "          const element = document.querySelector('#df-215552b7-c526-4f62-95bd-0da411640a50');\n",
              "          const dataTable =\n",
              "            await google.colab.kernel.invokeFunction('convertToInteractive',\n",
              "                                                     [key], {});\n",
              "          if (!dataTable) return;\n",
              "\n",
              "          const docLinkHtml = 'Like what you see? Visit the ' +\n",
              "            '<a target=\"_blank\" href=https://colab.research.google.com/notebooks/data_table.ipynb>data table notebook</a>'\n",
              "            + ' to learn more about interactive tables.';\n",
              "          element.innerHTML = '';\n",
              "          dataTable['output_type'] = 'display_data';\n",
              "          await google.colab.output.renderOutput(dataTable, element);\n",
              "          const docLink = document.createElement('div');\n",
              "          docLink.innerHTML = docLinkHtml;\n",
              "          element.appendChild(docLink);\n",
              "        }\n",
              "      </script>\n",
              "    </div>\n",
              "  </div>\n"
            ]
          },
          "metadata": {},
          "execution_count": 96
        }
      ]
    },
    {
      "cell_type": "markdown",
      "source": [
        "*   Kicks não é um sedã é um SUV, Polo não é uma picape, 2008 não é um sedâ\n",
        "*   Há erros de preenchimento nessa coluna."
      ],
      "metadata": {
        "id": "r0H0joPOjFiZ"
      }
    },
    {
      "cell_type": "code",
      "source": [],
      "metadata": {
        "id": "X79g-0X6jzE-"
      },
      "execution_count": null,
      "outputs": []
    },
    {
      "cell_type": "markdown",
      "source": [
        "# Blindado"
      ],
      "metadata": {
        "id": "90ukX_1xjzsW"
      }
    },
    {
      "cell_type": "code",
      "source": [
        "df.columns"
      ],
      "metadata": {
        "colab": {
          "base_uri": "https://localhost:8080/"
        },
        "id": "HkmwLFa1j0c7",
        "outputId": "7dd2ac3b-58fe-4fad-e45b-1298fa446847"
      },
      "execution_count": null,
      "outputs": [
        {
          "output_type": "execute_result",
          "data": {
            "text/plain": [
              "Index(['id', 'num_fotos', 'marca', 'modelo', 'versao', 'ano_de_fabricacao',\n",
              "       'ano_modelo', 'hodometro', 'cambio', 'num_portas', 'tipo', 'blindado',\n",
              "       'cor', 'tipo_vendedor', 'cidade_vendedor', 'estado_vendedor',\n",
              "       'anunciante', 'entrega_delivery', 'troca', 'elegivel_revisao',\n",
              "       'dono_aceita_troca', 'veiculo_único_dono', 'revisoes_concessionaria',\n",
              "       'ipva_pago', 'veiculo_licenciado', 'garantia_de_fábrica',\n",
              "       'revisoes_dentro_agenda', 'veiculo_alienado', 'preco'],\n",
              "      dtype='object')"
            ]
          },
          "metadata": {},
          "execution_count": 97
        }
      ]
    },
    {
      "cell_type": "code",
      "source": [
        "df['blindado'].value_counts()"
      ],
      "metadata": {
        "colab": {
          "base_uri": "https://localhost:8080/"
        },
        "id": "7REsEh6cmBV9",
        "outputId": "5141ee2c-3612-49ea-cf0e-538716f20546"
      },
      "execution_count": null,
      "outputs": [
        {
          "output_type": "execute_result",
          "data": {
            "text/plain": [
              "blindado\n",
              "N    29336\n",
              "S      248\n",
              "Name: count, dtype: int64"
            ]
          },
          "metadata": {},
          "execution_count": 98
        }
      ]
    },
    {
      "cell_type": "markdown",
      "source": [
        "*   Maioria dos carros não são blindados"
      ],
      "metadata": {
        "id": "lX0jn2AdjS-J"
      }
    },
    {
      "cell_type": "markdown",
      "source": [
        "# Cor"
      ],
      "metadata": {
        "id": "ZM6FAxzPmGyV"
      }
    },
    {
      "cell_type": "code",
      "source": [
        "df['cor'].value_counts()"
      ],
      "metadata": {
        "colab": {
          "base_uri": "https://localhost:8080/"
        },
        "id": "95TdOrMVmKc-",
        "outputId": "a49a9176-ecbf-4e20-d01f-a4c7e1349de6"
      },
      "execution_count": null,
      "outputs": [
        {
          "output_type": "execute_result",
          "data": {
            "text/plain": [
              "cor\n",
              "Branco      20949\n",
              "Preto        5256\n",
              "Prata        1741\n",
              "Cinza        1634\n",
              "Dourado         2\n",
              "Verde           1\n",
              "Vermelho        1\n",
              "Name: count, dtype: int64"
            ]
          },
          "metadata": {},
          "execution_count": 99
        }
      ]
    },
    {
      "cell_type": "code",
      "source": [
        "plt.figure(figsize=(10,6))\n",
        "sns.histplot(df['cor'])"
      ],
      "metadata": {
        "colab": {
          "base_uri": "https://localhost:8080/",
          "height": 563
        },
        "id": "tL9U5S8LmZXP",
        "outputId": "f4249563-5237-40d1-9d10-0f4e2a763d29"
      },
      "execution_count": null,
      "outputs": [
        {
          "output_type": "execute_result",
          "data": {
            "text/plain": [
              "<Axes: xlabel='cor', ylabel='Count'>"
            ]
          },
          "metadata": {},
          "execution_count": 100
        },
        {
          "output_type": "display_data",
          "data": {
            "text/plain": [
              "<Figure size 1000x600 with 1 Axes>"
            ],
            "image/png": "[encoded data removed]"
          },
          "metadata": {}
        }
      ]
    },
    {
      "cell_type": "markdown",
      "source": [
        "*   Branco, preto, prata e cinza são as principais cores"
      ],
      "metadata": {
        "id": "up_hVVQQjaEH"
      }
    },
    {
      "cell_type": "markdown",
      "source": [
        "# Tipo de vendedor"
      ],
      "metadata": {
        "id": "TOZH0DEkmhV5"
      }
    },
    {
      "cell_type": "code",
      "source": [
        "df['tipo_vendedor'].value_counts(normalize=True)*100"
      ],
      "metadata": {
        "colab": {
          "base_uri": "https://localhost:8080/"
        },
        "id": "jvqU7cuWmk58",
        "outputId": "11706d67-8bdc-46a9-8b68-89b2ae19b6dd"
      },
      "execution_count": null,
      "outputs": [
        {
          "output_type": "execute_result",
          "data": {
            "text/plain": [
              "tipo_vendedor\n",
              "PF    60.593564\n",
              "PJ    39.406436\n",
              "Name: proportion, dtype: float64"
            ]
          },
          "metadata": {},
          "execution_count": 103
        }
      ]
    },
    {
      "cell_type": "code",
      "source": [
        "plt.figure(figsize=(10,6))\n",
        "sns.histplot(df['tipo_vendedor'])"
      ],
      "metadata": {
        "colab": {
          "base_uri": "https://localhost:8080/",
          "height": 563
        },
        "id": "7d4NeLKtm1Gz",
        "outputId": "a6807f8f-e944-422e-94db-a1a3aef8f426"
      },
      "execution_count": null,
      "outputs": [
        {
          "output_type": "execute_result",
          "data": {
            "text/plain": [
              "<Axes: xlabel='tipo_vendedor', ylabel='Count'>"
            ]
          },
          "metadata": {},
          "execution_count": 104
        },
        {
          "output_type": "display_data",
          "data": {
            "text/plain": [
              "<Figure size 1000x600 with 1 Axes>"
            ],
            "image/png": "[encoded data removed]"
          },
          "metadata": {}
        }
      ]
    },
    {
      "cell_type": "markdown",
      "source": [
        "*   mais de 60% de pessoas físicas que vendem seus carros"
      ],
      "metadata": {
        "id": "JJE3DYXsjiS0"
      }
    },
    {
      "cell_type": "code",
      "source": [],
      "metadata": {
        "id": "tc7j8ChOm1I6"
      },
      "execution_count": null,
      "outputs": []
    },
    {
      "cell_type": "markdown",
      "source": [
        "# Cidade do vendedor"
      ],
      "metadata": {
        "id": "Lxp0E04gnATX"
      }
    },
    {
      "cell_type": "code",
      "source": [
        "df['cidade_vendedor'].value_counts(normalize=True)*100"
      ],
      "metadata": {
        "colab": {
          "base_uri": "https://localhost:8080/"
        },
        "id": "EIdTLMkxnFPH",
        "outputId": "20ef15e2-1e7a-4c89-e054-1fe2c8810afd"
      },
      "execution_count": null,
      "outputs": [
        {
          "output_type": "execute_result",
          "data": {
            "text/plain": [
              "cidade_vendedor\n",
              "São Paulo              20.815306\n",
              "Rio de Janeiro         19.581531\n",
              "Belo Horizonte          7.341806\n",
              "Presidente Prudente     5.191996\n",
              "Goiânia                 4.718767\n",
              "                         ...    \n",
              "Garopaba                0.003380\n",
              "Porto Feliz             0.003380\n",
              "Antônio Carlos          0.003380\n",
              "Panambi                 0.003380\n",
              "Descalvado              0.003380\n",
              "Name: proportion, Length: 575, dtype: float64"
            ]
          },
          "metadata": {},
          "execution_count": 105
        }
      ]
    },
    {
      "cell_type": "markdown",
      "source": [
        "*   São paulo e Rio de janeiro são as cidades mais representativas, as duas cidades somam mais de 40%\n"
      ],
      "metadata": {
        "id": "o5WKhDeMjsfw"
      }
    },
    {
      "cell_type": "markdown",
      "source": [
        "# Estado do vendedor"
      ],
      "metadata": {
        "id": "aUXuzgiInrtx"
      }
    },
    {
      "cell_type": "code",
      "source": [
        "df['estado_vendedor'].value_counts(normalize=True)*100"
      ],
      "metadata": {
        "colab": {
          "base_uri": "https://localhost:8080/"
        },
        "id": "1nc_jSTqnwWN",
        "outputId": "629dbc92-c31d-4335-c0d0-9eb87991b771"
      },
      "execution_count": null,
      "outputs": [
        {
          "output_type": "execute_result",
          "data": {
            "text/plain": [
              "estado_vendedor\n",
              "São Paulo (SP)              55.361006\n",
              "Rio de Janeiro (RJ)          8.612764\n",
              "Paraná (PR)                  8.538399\n",
              "Santa Catarina (SC)          7.781233\n",
              "Minas Gerais (MG)            5.999865\n",
              "Rio Grande do Sul (RS)       5.563818\n",
              "Goiás (GO)                   2.666982\n",
              "Bahia (BA)                   2.041644\n",
              "Pernambuco (PE)              1.074905\n",
              "Alagoas (AL)                 0.422526\n",
              "Paraíba (PB)                 0.365062\n",
              "Rio Grande do Norte (RN)     0.304218\n",
              "Pará (PA)                    0.250135\n",
              "Ceará (CE)                   0.233234\n",
              "Amazonas (AM)                0.172390\n",
              "Mato Grosso do Sul (MS)      0.118307\n",
              "Mato Grosso (MT)             0.111547\n",
              "Acre (AC)                    0.098026\n",
              "Sergipe (SE)                 0.081125\n",
              "Espírito Santo (ES)          0.070984\n",
              "Tocantins (TO)               0.067604\n",
              "Maranhão (MA)                0.023661\n",
              "Piauí (PI)                   0.020281\n",
              "Rondônia (RO)                0.013521\n",
              "Roraima (RR)                 0.006760\n",
              "Name: proportion, dtype: float64"
            ]
          },
          "metadata": {},
          "execution_count": 106
        }
      ]
    },
    {
      "cell_type": "markdown",
      "source": [
        "*   O estado de São paulo corresponde há mais de 55% da base, estado com maior população e maior oferta de carros, é o estado que deve ser máis fácil vender um carro"
      ],
      "metadata": {
        "id": "ttwndPhrj3Kh"
      }
    },
    {
      "cell_type": "markdown",
      "source": [
        "# Anunciante"
      ],
      "metadata": {
        "id": "1PpM6dDDov8J"
      }
    },
    {
      "cell_type": "code",
      "source": [
        "df['anunciante'].value_counts(normalize=True)*100"
      ],
      "metadata": {
        "colab": {
          "base_uri": "https://localhost:8080/"
        },
        "id": "-_LSghCTo_6T",
        "outputId": "1a62cf00-f744-4496-c56b-8437fddd9171"
      },
      "execution_count": null,
      "outputs": [
        {
          "output_type": "execute_result",
          "data": {
            "text/plain": [
              "anunciante\n",
              "Pessoa Física                       60.840319\n",
              "Loja                                33.393050\n",
              "Concessionária                       5.753110\n",
              "Acessórios e serviços para autos     0.013521\n",
              "Name: proportion, dtype: float64"
            ]
          },
          "metadata": {},
          "execution_count": 110
        }
      ]
    },
    {
      "cell_type": "code",
      "source": [
        "plt.figure(figsize=(10,6))\n",
        "sns.histplot(df['anunciante'])"
      ],
      "metadata": {
        "colab": {
          "base_uri": "https://localhost:8080/",
          "height": 563
        },
        "id": "Y6nhbdFspRY-",
        "outputId": "f41c6986-fed8-4061-edc4-cc77da07819d"
      },
      "execution_count": null,
      "outputs": [
        {
          "output_type": "execute_result",
          "data": {
            "text/plain": [
              "<Axes: xlabel='anunciante', ylabel='Count'>"
            ]
          },
          "metadata": {},
          "execution_count": 111
        },
        {
          "output_type": "display_data",
          "data": {
            "text/plain": [
              "<Figure size 1000x600 with 1 Axes>"
            ],
            "image/png": "[encoded data removed]"
          },
          "metadata": {}
        }
      ]
    },
    {
      "cell_type": "markdown",
      "source": [
        "*   Maioria dos anuciantes são pessoas físicas, isso é esperado porque a maioria dos vendedores são PF\n",
        "*   Loja é concessionárias são os PJ da base"
      ],
      "metadata": {
        "id": "OOuBP-ejj-I1"
      }
    },
    {
      "cell_type": "markdown",
      "source": [
        "# Entrega delivery"
      ],
      "metadata": {
        "id": "Y1JKlVFnpd7V"
      }
    },
    {
      "cell_type": "code",
      "source": [
        "df['entrega_delivery'].value_counts(normalize=True)*100"
      ],
      "metadata": {
        "colab": {
          "base_uri": "https://localhost:8080/"
        },
        "id": "BtM6ek2Yy51w",
        "outputId": "33ddc14d-ca6c-4935-af16-1c65b263a0ae"
      },
      "execution_count": null,
      "outputs": [
        {
          "output_type": "execute_result",
          "data": {
            "text/plain": [
              "False    79.77623\n",
              "True     20.22377\n",
              "Name: entrega_delivery, dtype: float64"
            ]
          },
          "metadata": {},
          "execution_count": 16
        }
      ]
    },
    {
      "cell_type": "markdown",
      "source": [
        "*   Quase 80% não faz delivery com o carro"
      ],
      "metadata": {
        "id": "45EPJaS1kQrP"
      }
    },
    {
      "cell_type": "markdown",
      "source": [
        "# Troca"
      ],
      "metadata": {
        "id": "0zj5_91kzgsf"
      }
    },
    {
      "cell_type": "code",
      "source": [
        "df['troca'].value_counts(normalize=True)*100"
      ],
      "metadata": {
        "colab": {
          "base_uri": "https://localhost:8080/"
        },
        "id": "pxLJwsvvzlSm",
        "outputId": "5a038a3b-8872-4ebc-88ae-3961a9b7d70f"
      },
      "execution_count": null,
      "outputs": [
        {
          "output_type": "execute_result",
          "data": {
            "text/plain": [
              "False    82.89278\n",
              "True     17.10722\n",
              "Name: troca, dtype: float64"
            ]
          },
          "metadata": {},
          "execution_count": 19
        }
      ]
    },
    {
      "cell_type": "markdown",
      "source": [
        "*   Mais de 80% não foi trocado os carros"
      ],
      "metadata": {
        "id": "F1tfw0SVke9u"
      }
    },
    {
      "cell_type": "markdown",
      "source": [
        "# Revisão"
      ],
      "metadata": {
        "id": "WYtffeOLzqk9"
      }
    },
    {
      "cell_type": "code",
      "source": [
        "df['elegivel_revisao'].value_counts(normalize=True)*100"
      ],
      "metadata": {
        "colab": {
          "base_uri": "https://localhost:8080/"
        },
        "id": "IP9r7Ld-zuV6",
        "outputId": "31fc7759-60f3-49e5-d94f-9a1be89f73cb"
      },
      "execution_count": null,
      "outputs": [
        {
          "output_type": "execute_result",
          "data": {
            "text/plain": [
              "False    100.0\n",
              "Name: elegivel_revisao, dtype: float64"
            ]
          },
          "metadata": {},
          "execution_count": 20
        }
      ]
    },
    {
      "cell_type": "code",
      "source": [
        "df['elegivel_revisao'].isnull().sum()"
      ],
      "metadata": {
        "colab": {
          "base_uri": "https://localhost:8080/"
        },
        "id": "x18dGDlx0Hsz",
        "outputId": "dac3c12c-7008-40fd-f246-d106bfe7ec4f"
      },
      "execution_count": null,
      "outputs": [
        {
          "output_type": "execute_result",
          "data": {
            "text/plain": [
              "0"
            ]
          },
          "metadata": {},
          "execution_count": 21
        }
      ]
    },
    {
      "cell_type": "code",
      "source": [
        "df['elegivel_revisao'].nunique()"
      ],
      "metadata": {
        "colab": {
          "base_uri": "https://localhost:8080/"
        },
        "id": "PXX_y-c_0Qyp",
        "outputId": "bde79d49-9e2a-46c9-94d4-91e736b7811a"
      },
      "execution_count": null,
      "outputs": [
        {
          "output_type": "execute_result",
          "data": {
            "text/plain": [
              "1"
            ]
          },
          "metadata": {},
          "execution_count": 23
        }
      ]
    },
    {
      "cell_type": "markdown",
      "source": [
        "*   Revisão tem apenas um valor que é false para toda base, não faz sentido sua ánalise e seu uso para previsão"
      ],
      "metadata": {
        "id": "uNaXBRgokpwf"
      }
    },
    {
      "cell_type": "markdown",
      "source": [],
      "metadata": {
        "id": "GaFzcgULkmsi"
      }
    },
    {
      "cell_type": "markdown",
      "source": [
        "# Dono aceita a troca"
      ],
      "metadata": {
        "id": "oH__faxo0h9X"
      }
    },
    {
      "cell_type": "code",
      "source": [
        "df['dono_aceita_troca'].value_counts(normalize=True)*100"
      ],
      "metadata": {
        "colab": {
          "base_uri": "https://localhost:8080/"
        },
        "id": "ehAefHmZ0jnO",
        "outputId": "5b8d450b-5288-4587-f052-976aeed5c6b1"
      },
      "execution_count": null,
      "outputs": [
        {
          "output_type": "execute_result",
          "data": {
            "text/plain": [
              "Aceita troca    100.0\n",
              "Name: dono_aceita_troca, dtype: float64"
            ]
          },
          "metadata": {},
          "execution_count": 24
        }
      ]
    },
    {
      "cell_type": "code",
      "source": [
        "df['dono_aceita_troca'].isnull().sum()"
      ],
      "metadata": {
        "colab": {
          "base_uri": "https://localhost:8080/"
        },
        "id": "WYmUZGuw0okh",
        "outputId": "3e1511dc-8874-4af8-a2b9-ceb02172752d"
      },
      "execution_count": null,
      "outputs": [
        {
          "output_type": "execute_result",
          "data": {
            "text/plain": [
              "7662"
            ]
          },
          "metadata": {},
          "execution_count": 25
        }
      ]
    },
    {
      "cell_type": "code",
      "source": [
        "df.shape"
      ],
      "metadata": {
        "colab": {
          "base_uri": "https://localhost:8080/"
        },
        "id": "1wOOXYTFn9WE",
        "outputId": "ca093f20-4c57-4f2e-b947-49287da5e917"
      },
      "execution_count": 4,
      "outputs": [
        {
          "output_type": "execute_result",
          "data": {
            "text/plain": [
              "(29584, 29)"
            ]
          },
          "metadata": {},
          "execution_count": 4
        }
      ]
    },
    {
      "cell_type": "code",
      "source": [
        "7662/29584*100"
      ],
      "metadata": {
        "colab": {
          "base_uri": "https://localhost:8080/"
        },
        "id": "QUtF46REoBQq",
        "outputId": "3654b5e6-518a-4ba8-bdbf-65d8825fa075"
      },
      "execution_count": 7,
      "outputs": [
        {
          "output_type": "execute_result",
          "data": {
            "text/plain": [
              "25.89913466738778"
            ]
          },
          "metadata": {},
          "execution_count": 7
        }
      ]
    },
    {
      "cell_type": "markdown",
      "source": [
        "*   Quase 75% aceita a troca do veículo na venda\n",
        "*   mais de 25% é de valor ausente nesta coluna, se não foi preenchido é razoável colocar que o dono do veículo não está disposto a troca"
      ],
      "metadata": {
        "id": "gIEMeYB9k1Br"
      }
    },
    {
      "cell_type": "markdown",
      "source": [
        "# Veiculo possui um único dono"
      ],
      "metadata": {
        "id": "VsPfKWvw0v1I"
      }
    },
    {
      "cell_type": "code",
      "source": [
        "df['veiculo_único_dono'].value_counts(normalize=True)*100"
      ],
      "metadata": {
        "colab": {
          "base_uri": "https://localhost:8080/"
        },
        "id": "TG7A6D3I1Zae",
        "outputId": "66c97e1d-61e7-4d12-f4a5-91fcaf1514a3"
      },
      "execution_count": null,
      "outputs": [
        {
          "output_type": "execute_result",
          "data": {
            "text/plain": [
              "Único dono    100.0\n",
              "Name: veiculo_único_dono, dtype: float64"
            ]
          },
          "metadata": {},
          "execution_count": 26
        }
      ]
    },
    {
      "cell_type": "code",
      "source": [
        "df['veiculo_único_dono'].isnull().sum()"
      ],
      "metadata": {
        "colab": {
          "base_uri": "https://localhost:8080/"
        },
        "id": "tSCneb1M1GOc",
        "outputId": "03eacd6f-3334-4083-f1b0-1c2eacae4c72"
      },
      "execution_count": null,
      "outputs": [
        {
          "output_type": "execute_result",
          "data": {
            "text/plain": [
              "19161"
            ]
          },
          "metadata": {},
          "execution_count": 27
        }
      ]
    },
    {
      "cell_type": "code",
      "source": [
        "19161/29584*100"
      ],
      "metadata": {
        "colab": {
          "base_uri": "https://localhost:8080/"
        },
        "id": "nlUnTRSYo2vw",
        "outputId": "b1b708af-73d8-42b8-98a8-9891937f6160"
      },
      "execution_count": 8,
      "outputs": [
        {
          "output_type": "execute_result",
          "data": {
            "text/plain": [
              "64.76811790156842"
            ]
          },
          "metadata": {},
          "execution_count": 8
        }
      ]
    },
    {
      "cell_type": "markdown",
      "source": [
        "*   menos de 35% dos veículos são de único dono\n",
        "*   mais de 64% é de valor ausente nesta coluna, se não foi preenchido é razoável colocar que o veículo não é de um único dono"
      ],
      "metadata": {
        "id": "4JkApiXSo9MR"
      }
    },
    {
      "cell_type": "markdown",
      "source": [
        "# Revisões na concessionária"
      ],
      "metadata": {
        "id": "4yZJQ29r1mEp"
      }
    },
    {
      "cell_type": "code",
      "source": [
        "df['revisoes_concessionaria'].value_counts(normalize=True)*100"
      ],
      "metadata": {
        "colab": {
          "base_uri": "https://localhost:8080/"
        },
        "id": "O6wa4AMO1r6W",
        "outputId": "4bffc381-92ca-4c14-de4c-1178deda8398"
      },
      "execution_count": null,
      "outputs": [
        {
          "output_type": "execute_result",
          "data": {
            "text/plain": [
              "Todas as revisões feitas pela concessionária    100.0\n",
              "Name: revisoes_concessionaria, dtype: float64"
            ]
          },
          "metadata": {},
          "execution_count": 28
        }
      ]
    },
    {
      "cell_type": "code",
      "source": [
        "df['revisoes_concessionaria'].isnull().sum()"
      ],
      "metadata": {
        "colab": {
          "base_uri": "https://localhost:8080/"
        },
        "id": "gya_YCTn1r-h",
        "outputId": "8462e481-5416-49b8-f776-fc9f6d951647"
      },
      "execution_count": null,
      "outputs": [
        {
          "output_type": "execute_result",
          "data": {
            "text/plain": [
              "20412"
            ]
          },
          "metadata": {},
          "execution_count": 29
        }
      ]
    },
    {
      "cell_type": "code",
      "source": [
        "20412/29584*100"
      ],
      "metadata": {
        "colab": {
          "base_uri": "https://localhost:8080/"
        },
        "id": "RH7E4hMSpOL-",
        "outputId": "08657e71-4146-4679-d5fd-d7a82ea23485"
      },
      "execution_count": 9,
      "outputs": [
        {
          "output_type": "execute_result",
          "data": {
            "text/plain": [
              "68.99675500270416"
            ]
          },
          "metadata": {},
          "execution_count": 9
        }
      ]
    },
    {
      "cell_type": "markdown",
      "source": [
        "*   Quase 31% dos veículos estão com a revisão na concessionária em dia\n",
        "*   Quase 69% é de valor ausente nesta coluna, se não foi preenchido é razoável colocar que o veículo não tem as suas revisões na concecionária"
      ],
      "metadata": {
        "id": "959Ck3JEpPAh"
      }
    },
    {
      "cell_type": "markdown",
      "source": [
        "# IPVA pago"
      ],
      "metadata": {
        "id": "urwA-6ou1zCG"
      }
    },
    {
      "cell_type": "code",
      "source": [
        "df['ipva_pago'].value_counts(normalize=True)*100"
      ],
      "metadata": {
        "colab": {
          "base_uri": "https://localhost:8080/"
        },
        "id": "up7ghd0k15c8",
        "outputId": "7fc9995e-6768-4ad0-8963-859898823211"
      },
      "execution_count": null,
      "outputs": [
        {
          "output_type": "execute_result",
          "data": {
            "text/plain": [
              "IPVA pago    100.0\n",
              "Name: ipva_pago, dtype: float64"
            ]
          },
          "metadata": {},
          "execution_count": 30
        }
      ]
    },
    {
      "cell_type": "code",
      "source": [
        "df['ipva_pago'].isnull().sum()"
      ],
      "metadata": {
        "colab": {
          "base_uri": "https://localhost:8080/"
        },
        "id": "ExXtpu7S1_G-",
        "outputId": "77f9c468-dcf0-45f1-b28d-20edace75864"
      },
      "execution_count": null,
      "outputs": [
        {
          "output_type": "execute_result",
          "data": {
            "text/plain": [
              "9925"
            ]
          },
          "metadata": {},
          "execution_count": 31
        }
      ]
    },
    {
      "cell_type": "code",
      "source": [
        "9925/29584*100"
      ],
      "metadata": {
        "colab": {
          "base_uri": "https://localhost:8080/"
        },
        "id": "ZwzulMULp5Ej",
        "outputId": "22c1c1dd-342f-4e37-c972-57655e8eabff"
      },
      "execution_count": 10,
      "outputs": [
        {
          "output_type": "execute_result",
          "data": {
            "text/plain": [
              "33.54853975121687"
            ]
          },
          "metadata": {},
          "execution_count": 10
        }
      ]
    },
    {
      "cell_type": "markdown",
      "source": [
        "*   aproximadamente 67% dos veículos tem seu IPVA pago\n",
        "*   mais de 33% é de valor ausente nesta coluna, se não foi preenchido é razoável colocar que o veículo não tem seu IPVA pago\n",
        "\n",
        "\n"
      ],
      "metadata": {
        "id": "W7X6z1Mop5cl"
      }
    },
    {
      "cell_type": "markdown",
      "source": [
        "# Veículo licenciado"
      ],
      "metadata": {
        "id": "dx1VBUSt2BA9"
      }
    },
    {
      "cell_type": "code",
      "source": [
        "df['veiculo_licenciado'].value_counts(normalize=True)*100"
      ],
      "metadata": {
        "colab": {
          "base_uri": "https://localhost:8080/"
        },
        "id": "GPIm6z9k2Lwd",
        "outputId": "6d3948c9-3d96-41f0-8283-5ef8dc38e106"
      },
      "execution_count": null,
      "outputs": [
        {
          "output_type": "execute_result",
          "data": {
            "text/plain": [
              "Licenciado    100.0\n",
              "Name: veiculo_licenciado, dtype: float64"
            ]
          },
          "metadata": {},
          "execution_count": 32
        }
      ]
    },
    {
      "cell_type": "code",
      "source": [
        "df['veiculo_licenciado'].isnull().sum()"
      ],
      "metadata": {
        "colab": {
          "base_uri": "https://localhost:8080/"
        },
        "id": "5k3AWPl72QL3",
        "outputId": "4cc1e3aa-95a8-418c-c539-d5e94d9a3e73"
      },
      "execution_count": null,
      "outputs": [
        {
          "output_type": "execute_result",
          "data": {
            "text/plain": [
              "13678"
            ]
          },
          "metadata": {},
          "execution_count": 33
        }
      ]
    },
    {
      "cell_type": "code",
      "source": [
        "13678/29584*100"
      ],
      "metadata": {
        "colab": {
          "base_uri": "https://localhost:8080/"
        },
        "id": "25uB3UeMqNyo",
        "outputId": "ecbd6c4d-c7e2-4fdb-d298-9dfd69124282"
      },
      "execution_count": 11,
      "outputs": [
        {
          "output_type": "execute_result",
          "data": {
            "text/plain": [
              "46.234451054624124"
            ]
          },
          "metadata": {},
          "execution_count": 11
        }
      ]
    },
    {
      "cell_type": "markdown",
      "source": [
        "*   aproximadamente 54% dos veículos tem seu licenciamento pago\n",
        "*   mais de 46% é de valor ausente nesta coluna, se não foi preenchido é razoável colocar que o veículo não tem o seu licenciamento pago"
      ],
      "metadata": {
        "id": "OmBm-j1oqN9n"
      }
    },
    {
      "cell_type": "markdown",
      "source": [
        "# Garantia de fábrica"
      ],
      "metadata": {
        "id": "W2vp26922R_k"
      }
    },
    {
      "cell_type": "code",
      "source": [
        "df['garantia_de_fábrica'].value_counts(normalize=True)*100"
      ],
      "metadata": {
        "colab": {
          "base_uri": "https://localhost:8080/"
        },
        "id": "-pe2DMeh2cMw",
        "outputId": "beea5f7f-cfdc-4568-ad80-5faaac64d006"
      },
      "execution_count": null,
      "outputs": [
        {
          "output_type": "execute_result",
          "data": {
            "text/plain": [
              "Garantia de fábrica    100.0\n",
              "Name: garantia_de_fábrica, dtype: float64"
            ]
          },
          "metadata": {},
          "execution_count": 34
        }
      ]
    },
    {
      "cell_type": "code",
      "source": [
        "df['garantia_de_fábrica'].isnull().sum()"
      ],
      "metadata": {
        "colab": {
          "base_uri": "https://localhost:8080/"
        },
        "id": "apGgkAPG2g9X",
        "outputId": "e35457ba-0b7d-46d7-bd31-66e0ba8be387"
      },
      "execution_count": null,
      "outputs": [
        {
          "output_type": "execute_result",
          "data": {
            "text/plain": [
              "25219"
            ]
          },
          "metadata": {},
          "execution_count": 35
        }
      ]
    },
    {
      "cell_type": "code",
      "source": [
        "25219/29584*100"
      ],
      "metadata": {
        "colab": {
          "base_uri": "https://localhost:8080/"
        },
        "id": "AoCjmzAOqnGo",
        "outputId": "07fe8090-92a7-4a42-c03d-115f50dce1e2"
      },
      "execution_count": 12,
      "outputs": [
        {
          "output_type": "execute_result",
          "data": {
            "text/plain": [
              "85.24540292049757"
            ]
          },
          "metadata": {},
          "execution_count": 12
        }
      ]
    },
    {
      "cell_type": "markdown",
      "source": [
        "*   aproximadamente 15% dos veículos tem seu garantia de fábrica\n",
        "*   mais de 85% é de valor ausente nesta coluna, se não foi preenchido é razoável colocar que o veículo não tem garantia de fábrica"
      ],
      "metadata": {
        "id": "PXUPWDErriTf"
      }
    },
    {
      "cell_type": "code",
      "source": [
        "df[['garantia_de_fábrica',\"estado_vendedor\"]].value_counts()"
      ],
      "metadata": {
        "colab": {
          "base_uri": "https://localhost:8080/"
        },
        "id": "uCwN0T7Qtez4",
        "outputId": "525dc5ba-492c-4a19-8c82-c958444ce455"
      },
      "execution_count": 16,
      "outputs": [
        {
          "output_type": "execute_result",
          "data": {
            "text/plain": [
              "garantia_de_fábrica  estado_vendedor         \n",
              "Garantia de fábrica  São Paulo (SP)              2307\n",
              "                     Rio de Janeiro (RJ)          412\n",
              "                     Paraná (PR)                  389\n",
              "                     Santa Catarina (SC)          330\n",
              "                     Rio Grande do Sul (RS)       281\n",
              "                     Minas Gerais (MG)            264\n",
              "                     Goiás (GO)                   186\n",
              "                     Alagoas (AL)                  58\n",
              "                     Bahia (BA)                    51\n",
              "                     Pernambuco (PE)               20\n",
              "                     Pará (PA)                     17\n",
              "                     Mato Grosso do Sul (MS)       13\n",
              "                     Amazonas (AM)                  9\n",
              "                     Espírito Santo (ES)            9\n",
              "                     Rio Grande do Norte (RN)       9\n",
              "                     Sergipe (SE)                   3\n",
              "                     Acre (AC)                      2\n",
              "                     Mato Grosso (MT)               2\n",
              "                     Paraíba (PB)                   1\n",
              "                     Ceará (CE)                     1\n",
              "                     Tocantins (TO)                 1\n",
              "dtype: int64"
            ]
          },
          "metadata": {},
          "execution_count": 16
        }
      ]
    },
    {
      "cell_type": "markdown",
      "source": [
        "*   O melhor estado para ser comprar um carro com garantia de fábrica é são paulo por ter mais opções"
      ],
      "metadata": {
        "id": "4k40EmHeuBgF"
      }
    },
    {
      "cell_type": "markdown",
      "source": [
        "# Revisões dentro da garantia"
      ],
      "metadata": {
        "id": "b2JQtV9E2jHc"
      }
    },
    {
      "cell_type": "code",
      "source": [
        "df['revisoes_dentro_agenda'].value_counts(normalize=True)*100"
      ],
      "metadata": {
        "colab": {
          "base_uri": "https://localhost:8080/"
        },
        "id": "a0Iv-RGW2lzi",
        "outputId": "91607e08-4a01-4856-e745-1ee6611d90ac"
      },
      "execution_count": null,
      "outputs": [
        {
          "output_type": "execute_result",
          "data": {
            "text/plain": [
              "Todas as revisões feitas pela agenda do carro    100.0\n",
              "Name: revisoes_dentro_agenda, dtype: float64"
            ]
          },
          "metadata": {},
          "execution_count": 36
        }
      ]
    },
    {
      "cell_type": "code",
      "source": [
        "df['revisoes_dentro_agenda'].isnull().sum()"
      ],
      "metadata": {
        "colab": {
          "base_uri": "https://localhost:8080/"
        },
        "id": "Q1M-fMp22vok",
        "outputId": "a31c2dd5-4484-4aba-ff08-0099757c14e6"
      },
      "execution_count": null,
      "outputs": [
        {
          "output_type": "execute_result",
          "data": {
            "text/plain": [
              "23674"
            ]
          },
          "metadata": {},
          "execution_count": 37
        }
      ]
    },
    {
      "cell_type": "code",
      "source": [
        "23674/29584*100"
      ],
      "metadata": {
        "colab": {
          "base_uri": "https://localhost:8080/"
        },
        "id": "TVvSbaf9rv1v",
        "outputId": "fa974497-a0d0-44b2-d1ea-ebb436816e24"
      },
      "execution_count": 13,
      "outputs": [
        {
          "output_type": "execute_result",
          "data": {
            "text/plain": [
              "80.02298539751217"
            ]
          },
          "metadata": {},
          "execution_count": 13
        }
      ]
    },
    {
      "cell_type": "markdown",
      "source": [
        "*   aproximadamente 20% dos veículos tem as revisões feitas na garantia\n",
        "*   mais de 80% é de valor ausente nesta coluna, se não foi preenchido é razoável colocar que o veículo não teve as suas revisões feitas na garantia"
      ],
      "metadata": {
        "id": "OxFNTjOXrwAI"
      }
    },
    {
      "cell_type": "markdown",
      "source": [
        "# Veículo alienado"
      ],
      "metadata": {
        "id": "NhE4eX8H20cX"
      }
    },
    {
      "cell_type": "code",
      "source": [
        "df['veiculo_alienado'].value_counts(normalize=True)*100"
      ],
      "metadata": {
        "colab": {
          "base_uri": "https://localhost:8080/"
        },
        "id": "1PxNbo9t2vvt",
        "outputId": "571d5607-a88e-44df-e050-48d2f5f576a8"
      },
      "execution_count": null,
      "outputs": [
        {
          "output_type": "execute_result",
          "data": {
            "text/plain": [
              "Series([], Name: veiculo_alienado, dtype: float64)"
            ]
          },
          "metadata": {},
          "execution_count": 40
        }
      ]
    },
    {
      "cell_type": "code",
      "source": [
        "df['veiculo_alienado']"
      ],
      "metadata": {
        "colab": {
          "base_uri": "https://localhost:8080/"
        },
        "id": "yl_bdcIC3Iqn",
        "outputId": "f298f794-6616-4012-e0db-dc680655bd5c"
      },
      "execution_count": null,
      "outputs": [
        {
          "output_type": "execute_result",
          "data": {
            "text/plain": [
              "0       NaN\n",
              "1       NaN\n",
              "2       NaN\n",
              "3       NaN\n",
              "4       NaN\n",
              "         ..\n",
              "29579   NaN\n",
              "29580   NaN\n",
              "29581   NaN\n",
              "29582   NaN\n",
              "29583   NaN\n",
              "Name: veiculo_alienado, Length: 29584, dtype: float64"
            ]
          },
          "metadata": {},
          "execution_count": 42
        }
      ]
    },
    {
      "cell_type": "code",
      "source": [
        "df.shape"
      ],
      "metadata": {
        "colab": {
          "base_uri": "https://localhost:8080/"
        },
        "id": "-LEST7y_3QnP",
        "outputId": "19665e55-5bce-4238-bd5d-8159719abecf"
      },
      "execution_count": null,
      "outputs": [
        {
          "output_type": "execute_result",
          "data": {
            "text/plain": [
              "(29584, 29)"
            ]
          },
          "metadata": {},
          "execution_count": 44
        }
      ]
    },
    {
      "cell_type": "code",
      "source": [
        "df['veiculo_alienado'].isnull().sum()"
      ],
      "metadata": {
        "colab": {
          "base_uri": "https://localhost:8080/"
        },
        "id": "u7jatAk32_0r",
        "outputId": "9e402e03-f645-4d10-824f-c65b13c6eedd"
      },
      "execution_count": null,
      "outputs": [
        {
          "output_type": "execute_result",
          "data": {
            "text/plain": [
              "29584"
            ]
          },
          "metadata": {},
          "execution_count": 39
        }
      ]
    },
    {
      "cell_type": "markdown",
      "source": [
        "*   A coluna está vázia, será dropada para a previsão"
      ],
      "metadata": {
        "id": "cOWOcAqSr_4S"
      }
    },
    {
      "cell_type": "markdown",
      "source": [
        "# Nova seção"
      ],
      "metadata": {
        "id": "-LYb1yOGs4tO"
      }
    }
  ]
}